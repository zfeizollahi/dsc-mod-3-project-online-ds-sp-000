{
 "cells": [
  {
   "cell_type": "markdown",
   "metadata": {},
   "source": [
    "# How to pick a statistical test"
   ]
  },
  {
   "cell_type": "code",
   "execution_count": 1,
   "metadata": {},
   "outputs": [],
   "source": [
    "from IPython.display import Image\n",
    "from IPython.core.display import HTML"
   ]
  },
  {
   "cell_type": "markdown",
   "metadata": {},
   "source": [
    "In this last project, I used a variety of t-tests, linear regression models and factor tests to understand the effect of discount. Choosing the right test comes back to how you ask the question. Below I list out different ways of asking a question about how a discounted item might affect quantity purchased."
   ]
  },
  {
   "cell_type": "markdown",
   "metadata": {},
   "source": [
    "## Yes or No?\n",
    "Is one group different from the other? When testing whether or not a group is different from another, you can perform a 2-tailed t-test. Do to this, you need an outcome variable that is quantitative. For example, in my project I was interested in the quantity ordered when there are discounts. My two groups - or the dependent variable - differed by whether or not a discount was given (at any discount). The two-tailed test since one group could be more OR less significantly different from the other group. So we're looking at each end of the t-test, the likelihood that the t-test value is below -2 or above 2 (shown in the graph). This means we have a very small chance that we reject the null-hypothesis (that there is no difference between the two groups). "
   ]
  },
  {
   "cell_type": "markdown",
   "metadata": {},
   "source": [
    "### Two tailed t-test\n",
    "<img src=\"two_tailed_test.png\" width=\"500\" height=\"500\" />"
   ]
  },
  {
   "cell_type": "markdown",
   "metadata": {},
   "source": [
    "## Yes or No - Is one more (or less) that the other?\n",
    "Is one group have MORE (mean is higher) than the other group? \n",
    "If you’ve calculated a basic descriptive statistic like mean or mode, and found that one group is higher than another. You can ask if that difference is signficant (or less if your ‘intervention’ group mean was less). In this case, you can use a one-tailed t-test, where we only test that the group’s higher mean is significant. Because you’re only interested the probability that we rejected the null hypothesis that is isn’t higher, you only need to look at the top end of the t-test probability distribution. In my project, since I looked at the means of each group, I found that my intervention variable (those with a discount amount) did have a higher mean. Therefore, I can use a 1-tailed test to test if that difference is significant."
   ]
  },
  {
   "cell_type": "markdown",
   "metadata": {},
   "source": [
    "### One-tailed t-test\n",
    "<img src=\"one_tailed_test.png\" width=\"500\" height=\"500\" />"
   ]
  },
  {
   "cell_type": "markdown",
   "metadata": {},
   "source": [
    "## Which groups ? \n",
    "Have an effect on quantity ordered? The last two questions asked a yes no question about two groups and whether they were different based on a quantitative (incremental) outcome variable - quantity ordered. But now we are interested more specifically which group. \n",
    "    For this we can use a Tukey test which compares each category against each other (all combinations) and whether those two groups are different from each other. In my project, we found only discount vs. 0 was significant. But not any particular discount against another discount. For example, 5% was not significantly different a 20% discount. \n",
    "    On a related note, if I had multiple factors, such as price, category and discount, I can use an ANOVA to tst the effect of each factor. The test would split the data into not just by discount but also whether it was high/medium/low cost, and category. It would then tell us whether each factor is indeed signficant. Some ANOVA tools might even tell you the interactions between two variables. However, just like the t-test, it really only tells us that a variable (discount amount - treated as categories) has an effect. We need some more specific tests to figure out the difference between 5, 10, 15, 20 and 25 %."
   ]
  },
  {
   "cell_type": "markdown",
   "metadata": {},
   "source": [
    "## How much ?\n",
    "How much does each factor contribute to the outcome/dependent variable?\n",
    "To answer this question, I built a linear regression model since we can use the coefficients of each factor to understand how large or small an effect the factor is on the outcome. It will also tell you whether the variable turns out to be significant, I can then look at the coefficients to see how large or small each one is weighted. To use this test, we had to one-hot encode each discount amount, so that each discount is treated as a separate variable. I could have used discount as a quantitative variable, in which case, we might see if as we increase discount the effect it has on quantity ordered. But we wouldn’t get each discount category’s effect individually. Just the weighting of more or less discount incrementally. \n",
    "The linear regression model did tell me that all discounts were significant, but one was a little less significant than the others (10%) and one a little more significant (15%)."
   ]
  },
  {
   "cell_type": "markdown",
   "metadata": {},
   "source": [
    "### Linear Regression example"
   ]
  },
  {
   "cell_type": "markdown",
   "metadata": {},
   "source": [
    "<img src=\"linear.reg.coeff.png\" width=\"500\" height=\"500\" />"
   ]
  },
  {
   "cell_type": "markdown",
   "metadata": {},
   "source": [
    "## Intersectionality - are there multiple reasons ? \n",
    "Interactions between variables means that one alone may or many not be significant, but the combination of two categories means there is an effect or greater effect otherwise. For example, 10% might not be a signficant factor in predicting outcome, but 10% discount AND the item being a dairy product means you do get a significant discount. (Not an actual result, just an example). This can be known as intersectionality, which touches on how statistics may obscure cases of social injustice. The term was coined by Kimberlé Williams Crenshaw, who cited the DeGraffenreid vs. General Motors as an illustrative example. The company claimed they were not sexist or racist, in that they hired both blacks and women. However, upon closer look only white women were hired as secretaries, and black men as factory workers. That meant that a black woman had no chance of being hired. Thus, the interaction of race and gender was significant in that the chance of being hired (given the history and data of the company) when to near 0% chance. Therefore it is important to look at interactions of factors.\n",
    "\n",
    "In my projects, since the items ordered were food items, I thought that item category (dairy, pantry, grains) would interact with discount, since perishable items might spoil before one could use them. There's a limit to how much milk you might by even if it was discounted 50%. It did turn out to be significant.\n",
    "I also thought the interaction of price & discount, would mean more purchases for things that were more expensive since you would save more. It did not turn out to be significant.\n",
    "\n"
   ]
  },
  {
   "cell_type": "markdown",
   "metadata": {},
   "source": [
    "## Conclusion\n",
    "To sum, knowing which question you are trying to answer and how your variables as created (either raw labels, or quantitative vs. categorical) should guide you to the right test. While we don’t want to go fishing for numbers, (running a bunch of things to finds something significant), it is ok to ask different questions, perform the appropriate significance test and build conclusions from there."
   ]
  },
  {
   "cell_type": "code",
   "execution_count": null,
   "metadata": {},
   "outputs": [],
   "source": []
  }
 ],
 "metadata": {
  "kernelspec": {
   "display_name": "Python 3",
   "language": "python",
   "name": "python3"
  },
  "language_info": {
   "codemirror_mode": {
    "name": "ipython",
    "version": 3
   },
   "file_extension": ".py",
   "mimetype": "text/x-python",
   "name": "python",
   "nbconvert_exporter": "python",
   "pygments_lexer": "ipython3",
   "version": "3.6.9"
  }
 },
 "nbformat": 4,
 "nbformat_minor": 2
}
