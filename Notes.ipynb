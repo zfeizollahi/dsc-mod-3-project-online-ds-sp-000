{
 "cells": [
  {
   "cell_type": "markdown",
   "metadata": {},
   "source": [
    "Blog Post\n",
    "\n",
    "T-test - different methods of t-tests (?difference of means, central limit, vs. ??), bias i did in Uber\n",
    "vs \n",
    "Anova\n",
    "vs.\n",
    "Tukey\n",
    "\n",
    " choosing the slope and y-intercept values of a regression line, we can calculate the residual sum of squares (RSS) and related root mean squared error. We can use either the RSS or RMSE to calculate the accuracy of a line.\n"
   ]
  },
  {
   "cell_type": "markdown",
   "metadata": {},
   "source": [
    "### **Hypothesis 3**\n",
    "**Question**: Does unit price & discount have an effect on quantity per order purchased?  \n",
    "**H0**: Unit price & discount does not have an effect on quantity purchased.  \n",
    "**H1**: Unit price & discount has an effect on total quantity purchased."
   ]
  },
  {
   "cell_type": "code",
   "execution_count": null,
   "metadata": {},
   "outputs": [],
   "source": [
    "formula = 'Quantity ~ C(Discount) + UnitPrice'\n",
    "lm = ols(formula,df).fit() \n",
    "table = sm.stats.anova_lm(lm, typ=2)\n",
    "print(table)"
   ]
  },
  {
   "cell_type": "code",
   "execution_count": null,
   "metadata": {},
   "outputs": [],
   "source": [
    "outcome = 'Quantity'\n",
    "predictors = X.drop(columns=['Quantity']).columns\n",
    "f = '+'.join(predictors)\n",
    "formula = outcome + '~' + f\n",
    "stats_model = ols(formula=formula, data=X).fit()"
   ]
  },
  {
   "cell_type": "code",
   "execution_count": null,
   "metadata": {},
   "outputs": [],
   "source": [
    "stats_model.summary()"
   ]
  }
 ],
 "metadata": {
  "kernelspec": {
   "display_name": "Python 3",
   "language": "python",
   "name": "python3"
  },
  "language_info": {
   "codemirror_mode": {
    "name": "ipython",
    "version": 3
   },
   "file_extension": ".py",
   "mimetype": "text/x-python",
   "name": "python",
   "nbconvert_exporter": "python",
   "pygments_lexer": "ipython3",
   "version": "3.6.9"
  }
 },
 "nbformat": 4,
 "nbformat_minor": 2
}
