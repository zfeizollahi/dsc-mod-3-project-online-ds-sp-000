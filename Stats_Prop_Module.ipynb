{
 "cells": [
  {
   "cell_type": "code",
   "execution_count": 1,
   "metadata": {},
   "outputs": [],
   "source": [
    "# Load & query database\n",
    "import sqlite3\n",
    "conn = sqlite3.connect('Northwind_small.sqlite')\n",
    "cur = conn.cursor()"
   ]
  },
  {
   "cell_type": "code",
   "execution_count": 2,
   "metadata": {},
   "outputs": [
    {
     "name": "stderr",
     "output_type": "stream",
     "text": [
      "/Users/zhaleh/opt/anaconda3/envs/learn-env/lib/python3.6/site-packages/statsmodels/tools/_testing.py:19: FutureWarning: pandas.util.testing is deprecated. Use the functions in the public API at pandas.testing instead.\n",
      "  import pandas.util.testing as tm\n"
     ]
    }
   ],
   "source": [
    "import pandas as pd\n",
    "import numpy as np\n",
    "import matplotlib.pyplot as plt\n",
    "import seaborn as sns\n",
    "import re"
   ]
  },
  {
   "cell_type": "code",
   "execution_count": 3,
   "metadata": {},
   "outputs": [],
   "source": [
    "from scipy import stats\n",
    "import statsmodels.api as sm\n",
    "from statsmodels.formula.api import ols\n",
    "from sklearn.linear_model import LinearRegression\n",
    "from sklearn.model_selection import cross_val_score\n",
    "from sklearn.model_selection import KFold\n",
    "from statsmodels.stats.multicomp import (pairwise_tukeyhsd,\n",
    "                                         MultiComparison)"
   ]
  },
  {
   "cell_type": "markdown",
   "metadata": {},
   "source": [
    "## 1. Querying Data & Exploratory Data Analysis"
   ]
  },
  {
   "cell_type": "code",
   "execution_count": 4,
   "metadata": {},
   "outputs": [],
   "source": [
    "query = \"\"\"SELECT name FROM sqlite_master WHERE type='table' ORDER BY name;\"\"\""
   ]
  },
  {
   "cell_type": "code",
   "execution_count": 5,
   "metadata": {},
   "outputs": [],
   "source": [
    "query = \"\"\"SELECT * FROM 'OrderDetail';\"\"\""
   ]
  },
  {
   "cell_type": "code",
   "execution_count": 6,
   "metadata": {},
   "outputs": [
    {
     "data": {
      "text/html": [
       "<div>\n",
       "<style scoped>\n",
       "    .dataframe tbody tr th:only-of-type {\n",
       "        vertical-align: middle;\n",
       "    }\n",
       "\n",
       "    .dataframe tbody tr th {\n",
       "        vertical-align: top;\n",
       "    }\n",
       "\n",
       "    .dataframe thead th {\n",
       "        text-align: right;\n",
       "    }\n",
       "</style>\n",
       "<table border=\"1\" class=\"dataframe\">\n",
       "  <thead>\n",
       "    <tr style=\"text-align: right;\">\n",
       "      <th></th>\n",
       "      <th>Id</th>\n",
       "      <th>OrderId</th>\n",
       "      <th>ProductId</th>\n",
       "      <th>UnitPrice</th>\n",
       "      <th>Quantity</th>\n",
       "      <th>Discount</th>\n",
       "    </tr>\n",
       "  </thead>\n",
       "  <tbody>\n",
       "    <tr>\n",
       "      <th>0</th>\n",
       "      <td>10248/11</td>\n",
       "      <td>10248</td>\n",
       "      <td>11</td>\n",
       "      <td>14.0</td>\n",
       "      <td>12</td>\n",
       "      <td>0.0</td>\n",
       "    </tr>\n",
       "    <tr>\n",
       "      <th>1</th>\n",
       "      <td>10248/42</td>\n",
       "      <td>10248</td>\n",
       "      <td>42</td>\n",
       "      <td>9.8</td>\n",
       "      <td>10</td>\n",
       "      <td>0.0</td>\n",
       "    </tr>\n",
       "    <tr>\n",
       "      <th>2</th>\n",
       "      <td>10248/72</td>\n",
       "      <td>10248</td>\n",
       "      <td>72</td>\n",
       "      <td>34.8</td>\n",
       "      <td>5</td>\n",
       "      <td>0.0</td>\n",
       "    </tr>\n",
       "    <tr>\n",
       "      <th>3</th>\n",
       "      <td>10249/14</td>\n",
       "      <td>10249</td>\n",
       "      <td>14</td>\n",
       "      <td>18.6</td>\n",
       "      <td>9</td>\n",
       "      <td>0.0</td>\n",
       "    </tr>\n",
       "    <tr>\n",
       "      <th>4</th>\n",
       "      <td>10249/51</td>\n",
       "      <td>10249</td>\n",
       "      <td>51</td>\n",
       "      <td>42.4</td>\n",
       "      <td>40</td>\n",
       "      <td>0.0</td>\n",
       "    </tr>\n",
       "  </tbody>\n",
       "</table>\n",
       "</div>"
      ],
      "text/plain": [
       "         Id  OrderId  ProductId  UnitPrice  Quantity  Discount\n",
       "0  10248/11    10248         11       14.0        12       0.0\n",
       "1  10248/42    10248         42        9.8        10       0.0\n",
       "2  10248/72    10248         72       34.8         5       0.0\n",
       "3  10249/14    10249         14       18.6         9       0.0\n",
       "4  10249/51    10249         51       42.4        40       0.0"
      ]
     },
     "execution_count": 6,
     "metadata": {},
     "output_type": "execute_result"
    }
   ],
   "source": [
    "cur.execute(query)\n",
    "df = pd.DataFrame(cur.fetchall())\n",
    "df.columns = [x[0] for x in cur.description]\n",
    "df.head()"
   ]
  },
  {
   "cell_type": "code",
   "execution_count": 7,
   "metadata": {},
   "outputs": [
    {
     "data": {
      "text/plain": [
       "'Total data points: 2155, unique orders: 830, unique products: 77'"
      ]
     },
     "execution_count": 7,
     "metadata": {},
     "output_type": "execute_result"
    }
   ],
   "source": [
    "\"Total data points: {}, unique orders: {}, unique products: {}\".format(len(df), df.OrderId.nunique(), df.ProductId.nunique())"
   ]
  },
  {
   "cell_type": "code",
   "execution_count": 8,
   "metadata": {},
   "outputs": [
    {
     "data": {
      "text/html": [
       "<div>\n",
       "<style scoped>\n",
       "    .dataframe tbody tr th:only-of-type {\n",
       "        vertical-align: middle;\n",
       "    }\n",
       "\n",
       "    .dataframe tbody tr th {\n",
       "        vertical-align: top;\n",
       "    }\n",
       "\n",
       "    .dataframe thead th {\n",
       "        text-align: right;\n",
       "    }\n",
       "</style>\n",
       "<table border=\"1\" class=\"dataframe\">\n",
       "  <thead>\n",
       "    <tr style=\"text-align: right;\">\n",
       "      <th></th>\n",
       "      <th>count</th>\n",
       "      <th>mean</th>\n",
       "      <th>std</th>\n",
       "      <th>min</th>\n",
       "      <th>25%</th>\n",
       "      <th>50%</th>\n",
       "      <th>75%</th>\n",
       "      <th>max</th>\n",
       "    </tr>\n",
       "    <tr>\n",
       "      <th>Discount</th>\n",
       "      <th></th>\n",
       "      <th></th>\n",
       "      <th></th>\n",
       "      <th></th>\n",
       "      <th></th>\n",
       "      <th></th>\n",
       "      <th></th>\n",
       "      <th></th>\n",
       "    </tr>\n",
       "  </thead>\n",
       "  <tbody>\n",
       "    <tr>\n",
       "      <th>0.00</th>\n",
       "      <td>1317.0</td>\n",
       "      <td>21.715262</td>\n",
       "      <td>17.507493</td>\n",
       "      <td>1.0</td>\n",
       "      <td>10.0</td>\n",
       "      <td>18.0</td>\n",
       "      <td>30.0</td>\n",
       "      <td>130.0</td>\n",
       "    </tr>\n",
       "    <tr>\n",
       "      <th>0.01</th>\n",
       "      <td>1.0</td>\n",
       "      <td>2.000000</td>\n",
       "      <td>NaN</td>\n",
       "      <td>2.0</td>\n",
       "      <td>2.0</td>\n",
       "      <td>2.0</td>\n",
       "      <td>2.0</td>\n",
       "      <td>2.0</td>\n",
       "    </tr>\n",
       "    <tr>\n",
       "      <th>0.02</th>\n",
       "      <td>2.0</td>\n",
       "      <td>2.000000</td>\n",
       "      <td>1.414214</td>\n",
       "      <td>1.0</td>\n",
       "      <td>1.5</td>\n",
       "      <td>2.0</td>\n",
       "      <td>2.5</td>\n",
       "      <td>3.0</td>\n",
       "    </tr>\n",
       "    <tr>\n",
       "      <th>0.03</th>\n",
       "      <td>3.0</td>\n",
       "      <td>1.666667</td>\n",
       "      <td>0.577350</td>\n",
       "      <td>1.0</td>\n",
       "      <td>1.5</td>\n",
       "      <td>2.0</td>\n",
       "      <td>2.0</td>\n",
       "      <td>2.0</td>\n",
       "    </tr>\n",
       "    <tr>\n",
       "      <th>0.04</th>\n",
       "      <td>1.0</td>\n",
       "      <td>1.000000</td>\n",
       "      <td>NaN</td>\n",
       "      <td>1.0</td>\n",
       "      <td>1.0</td>\n",
       "      <td>1.0</td>\n",
       "      <td>1.0</td>\n",
       "      <td>1.0</td>\n",
       "    </tr>\n",
       "    <tr>\n",
       "      <th>0.05</th>\n",
       "      <td>185.0</td>\n",
       "      <td>28.010811</td>\n",
       "      <td>22.187685</td>\n",
       "      <td>1.0</td>\n",
       "      <td>14.0</td>\n",
       "      <td>20.0</td>\n",
       "      <td>40.0</td>\n",
       "      <td>120.0</td>\n",
       "    </tr>\n",
       "    <tr>\n",
       "      <th>0.06</th>\n",
       "      <td>1.0</td>\n",
       "      <td>2.000000</td>\n",
       "      <td>NaN</td>\n",
       "      <td>2.0</td>\n",
       "      <td>2.0</td>\n",
       "      <td>2.0</td>\n",
       "      <td>2.0</td>\n",
       "      <td>2.0</td>\n",
       "    </tr>\n",
       "    <tr>\n",
       "      <th>0.10</th>\n",
       "      <td>173.0</td>\n",
       "      <td>25.236994</td>\n",
       "      <td>21.186503</td>\n",
       "      <td>2.0</td>\n",
       "      <td>10.0</td>\n",
       "      <td>20.0</td>\n",
       "      <td>30.0</td>\n",
       "      <td>130.0</td>\n",
       "    </tr>\n",
       "    <tr>\n",
       "      <th>0.15</th>\n",
       "      <td>157.0</td>\n",
       "      <td>28.382166</td>\n",
       "      <td>20.923099</td>\n",
       "      <td>2.0</td>\n",
       "      <td>15.0</td>\n",
       "      <td>21.0</td>\n",
       "      <td>40.0</td>\n",
       "      <td>100.0</td>\n",
       "    </tr>\n",
       "    <tr>\n",
       "      <th>0.20</th>\n",
       "      <td>161.0</td>\n",
       "      <td>27.024845</td>\n",
       "      <td>18.832801</td>\n",
       "      <td>2.0</td>\n",
       "      <td>12.0</td>\n",
       "      <td>21.0</td>\n",
       "      <td>40.0</td>\n",
       "      <td>100.0</td>\n",
       "    </tr>\n",
       "    <tr>\n",
       "      <th>0.25</th>\n",
       "      <td>154.0</td>\n",
       "      <td>28.240260</td>\n",
       "      <td>20.120570</td>\n",
       "      <td>2.0</td>\n",
       "      <td>15.0</td>\n",
       "      <td>25.0</td>\n",
       "      <td>36.0</td>\n",
       "      <td>120.0</td>\n",
       "    </tr>\n",
       "  </tbody>\n",
       "</table>\n",
       "</div>"
      ],
      "text/plain": [
       "           count       mean        std  min   25%   50%   75%    max\n",
       "Discount                                                            \n",
       "0.00      1317.0  21.715262  17.507493  1.0  10.0  18.0  30.0  130.0\n",
       "0.01         1.0   2.000000        NaN  2.0   2.0   2.0   2.0    2.0\n",
       "0.02         2.0   2.000000   1.414214  1.0   1.5   2.0   2.5    3.0\n",
       "0.03         3.0   1.666667   0.577350  1.0   1.5   2.0   2.0    2.0\n",
       "0.04         1.0   1.000000        NaN  1.0   1.0   1.0   1.0    1.0\n",
       "0.05       185.0  28.010811  22.187685  1.0  14.0  20.0  40.0  120.0\n",
       "0.06         1.0   2.000000        NaN  2.0   2.0   2.0   2.0    2.0\n",
       "0.10       173.0  25.236994  21.186503  2.0  10.0  20.0  30.0  130.0\n",
       "0.15       157.0  28.382166  20.923099  2.0  15.0  21.0  40.0  100.0\n",
       "0.20       161.0  27.024845  18.832801  2.0  12.0  21.0  40.0  100.0\n",
       "0.25       154.0  28.240260  20.120570  2.0  15.0  25.0  36.0  120.0"
      ]
     },
     "execution_count": 8,
     "metadata": {},
     "output_type": "execute_result"
    }
   ],
   "source": [
    "df.groupby('Discount').Quantity.describe()"
   ]
  },
  {
   "cell_type": "markdown",
   "metadata": {},
   "source": [
    "Since there are very few examples for discounts of 1%-6% (excluding 5%) it makes sense to drop these. Additionally these are odd reduction amounts that are not commonly occuring. Usually, people think in terms of 5 % increments."
   ]
  },
  {
   "cell_type": "code",
   "execution_count": 9,
   "metadata": {},
   "outputs": [],
   "source": [
    "df = df[~df.Discount.isin([0.01, 0.02, 0.03, 0.04, 0.06])]"
   ]
  },
  {
   "cell_type": "code",
   "execution_count": 10,
   "metadata": {},
   "outputs": [],
   "source": [
    "discount_df = df[df.Discount != 0]\n",
    "fullprice_df = df[df.Discount == 0]"
   ]
  },
  {
   "cell_type": "code",
   "execution_count": 11,
   "metadata": {},
   "outputs": [
    {
     "data": {
      "text/plain": [
       "(1317, 830)"
      ]
     },
     "execution_count": 11,
     "metadata": {},
     "output_type": "execute_result"
    }
   ],
   "source": [
    "len(fullprice_df), len(discount_df)"
   ]
  },
  {
   "cell_type": "code",
   "execution_count": 12,
   "metadata": {},
   "outputs": [],
   "source": [
    "product_ids = list(discount_df.ProductId.unique())\n",
    "product_ids.sort()"
   ]
  },
  {
   "cell_type": "code",
   "execution_count": 13,
   "metadata": {},
   "outputs": [
    {
     "data": {
      "image/png": "[encoded data removed]",
      "text/plain": [
       "<Figure size 1152x576 with 1 Axes>"
      ]
     },
     "metadata": {
      "needs_background": "light"
     },
     "output_type": "display_data"
    }
   ],
   "source": [
    "plt.figure(figsize=(16,8))\n",
    "\n",
    "width = np.min(np.diff(product_ids))/3\n",
    "plt.bar(product_ids - width, discount_df.groupby('ProductId').Quantity.mean(), width, label='Discounted')\n",
    "plt.bar(product_ids, fullprice_df.groupby('ProductId').Quantity.mean(), width, label='Full Price')\n",
    "plt.xlim(0, max(product_ids)+1)\n",
    "plt.legend()\n",
    "plt.title(\"Average Quantity ordered per order by product id\")\n",
    "plt.xlabel('Product ID')\n",
    "plt.ylabel(\"Average Quantity\")\n",
    "plt.show();"
   ]
  },
  {
   "cell_type": "markdown",
   "metadata": {},
   "source": [
    "The graph above shows each product and the average quantity ordered per order, when the item was discounted (in blue) vs. when the item was not discounted (in orange). Very often it seems as if more quantities were ordered when the item was discounted. However, there are some cases where this isn't the case. We need to further investigate to see if we can safely say that discounting a product encourages buying more of the product."
   ]
  },
  {
   "cell_type": "markdown",
   "metadata": {},
   "source": [
    "### Mean and SD of discount vs. full price orders"
   ]
  },
  {
   "cell_type": "code",
   "execution_count": 14,
   "metadata": {},
   "outputs": [
    {
     "name": "stdout",
     "output_type": "stream",
     "text": [
      "Mean quantity in full price orders 21.7 vs. discounted: 27.4\n",
      "SD full price 17.5 vs. discounted 20.7\n"
     ]
    }
   ],
   "source": [
    "print(\"Mean quantity in full price orders {} vs. discounted: {}\".format(round(fullprice_df.Quantity.mean(), 1)\n",
    "                                                                         ,round(discount_df.Quantity.mean(),1)))\n",
    "print(\"SD full price {} vs. discounted {}\".format(round(np.std(fullprice_df.Quantity),1 ),\n",
    "                                                    round(np.std(discount_df.Quantity),1 ) ))"
   ]
  },
  {
   "cell_type": "markdown",
   "metadata": {},
   "source": [
    "Taking a look at the mean values and total values, we can see that on average people order more when the item is discounted (by around ~6 more), than when full price. Below, total sum of quantity ordered is more for full price, however this may simply be a relic of there being more orders for full price items. Perhaps, the items were discounted during only a limited period."
   ]
  },
  {
   "cell_type": "code",
   "execution_count": 15,
   "metadata": {},
   "outputs": [
    {
     "data": {
      "text/plain": [
       "(28599, 22704)"
      ]
     },
     "execution_count": 15,
     "metadata": {},
     "output_type": "execute_result"
    }
   ],
   "source": [
    "fullprice_df.Quantity.sum(), discount_df.Quantity.sum()"
   ]
  },
  {
   "cell_type": "code",
   "execution_count": 16,
   "metadata": {},
   "outputs": [],
   "source": [
    "import warnings\n",
    "warnings.filterwarnings(\"ignore\")"
   ]
  },
  {
   "cell_type": "code",
   "execution_count": 17,
   "metadata": {},
   "outputs": [
    {
     "data": {
      "image/png": "[encoded data removed]",
      "text/plain": [
       "<Figure size 1152x576 with 1 Axes>"
      ]
     },
     "metadata": {
      "needs_background": "light"
     },
     "output_type": "display_data"
    }
   ],
   "source": [
    "plt.figure(figsize=(16,8))\n",
    "sns.distplot(discount_df.Quantity, label='Discounted')\n",
    "sns.distplot(fullprice_df.Quantity, label='Full Price').set_title(\"Distribution Plot for Discounted vs. Full Price\")\n",
    "plt.legend()\n",
    "plt.show();"
   ]
  },
  {
   "cell_type": "markdown",
   "metadata": {},
   "source": [
    "Plotting the distribution of the two sets of full price vs. discounted, we see there is a tail on orders with large quantities and a skew towards ordering fewer quantities. Below we test for normal distribution to know whether to assume normal distribution of data."
   ]
  },
  {
   "cell_type": "markdown",
   "metadata": {},
   "source": [
    "### **Checking for normal distributions**\n",
    "There is no difference between sample & hypothetical normal distribution.\n",
    "\n",
    "**Acceptance Criteria**: If the calculated value is less than the critical value, accept the null hypothesis.  \n",
    "**Rejection Criteria**: If the calculated value is greater than the critical value, reject the null hypothesis."
   ]
  },
  {
   "cell_type": "markdown",
   "metadata": {},
   "source": [
    "We can use KS Test to test for normal distribution."
   ]
  },
  {
   "cell_type": "code",
   "execution_count": 18,
   "metadata": {},
   "outputs": [
    {
     "name": "stdout",
     "output_type": "stream",
     "text": [
      "KstestResult(statistic=0.1540171703044333, pvalue=1.1697194236207052e-17)\n",
      "KstestResult(statistic=0.1571445192364258, pvalue=7.148467674601979e-29)\n"
     ]
    }
   ],
   "source": [
    "#KS test to see if the data comes from the same distributions\n",
    "print(stats.kstest(discount_df.Quantity, 'norm', args=(discount_df.Quantity.mean(), discount_df.Quantity.std()))) \n",
    "print(stats.kstest(fullprice_df.Quantity, 'norm',\n",
    "                   args=(fullprice_df.Quantity.mean(), fullprice_df.Quantity.std() )))\n"
   ]
  },
  {
   "cell_type": "markdown",
   "metadata": {},
   "source": [
    "The p-values for both sets of data are 0, which means that we can reject the null hypothesis that the ditribution is normal. This means we should use Welch's T-test which does not assume equal variances."
   ]
  },
  {
   "cell_type": "markdown",
   "metadata": {},
   "source": [
    "### Checking difference in distributions between two datasets\n",
    "There is no difference between the two dataset's distribution"
   ]
  },
  {
   "cell_type": "code",
   "execution_count": 19,
   "metadata": {},
   "outputs": [
    {
     "name": "stdout",
     "output_type": "stream",
     "text": [
      "Ks_2sampResult(statistic=0.1283896405668231, pvalue=8.846005317142414e-08)\n"
     ]
    }
   ],
   "source": [
    "print(stats.ks_2samp(fullprice_df.Quantity,discount_df.Quantity))"
   ]
  },
  {
   "cell_type": "markdown",
   "metadata": {},
   "source": [
    "The third test, tests whether the distribution of the sets differ from each other. The p-value is less than 0.05 which means they come from the same distribution."
   ]
  },
  {
   "cell_type": "markdown",
   "metadata": {},
   "source": [
    "### Hypothesis 1\n",
    "**Question**: From the graph above, we suspect that there is a difference in quantity of items ordered when the item is discounted vs. full price. Here we investigate whether this is true  \n",
    "**H0**: There is no difference in quantity of items ordered when there is a discount vs. full price.  \n",
    "**H1**: There is an increase in quantity of items ordered when there is a discount."
   ]
  },
  {
   "cell_type": "markdown",
   "metadata": {},
   "source": [
    "Here we use Welch's T-test for difference between the groups, since we do not assume normal distribution."
   ]
  },
  {
   "cell_type": "code",
   "execution_count": 20,
   "metadata": {},
   "outputs": [],
   "source": [
    "#when equal_var=False, welch's t test is used\n",
    "t, p = stats.ttest_ind(discount_df.Quantity, fullprice_df.Quantity, equal_var=False) "
   ]
  },
  {
   "cell_type": "code",
   "execution_count": 21,
   "metadata": {},
   "outputs": [
    {
     "name": "stdout",
     "output_type": "stream",
     "text": [
      "Reject null hypothesis. There is an increase in quantity ordered when there is a discount.\n",
      "T-stat: 6.51, p-value: 1.0051255540843165e-10\n"
     ]
    }
   ],
   "source": [
    "if p < 0.025:\n",
    "    print(\"Reject null hypothesis. There is an increase in quantity ordered when there is a discount.\")\n",
    "else:\n",
    "    print(\"There is an incrase in the quantity ordered when there is a discount.\")\n",
    "print(\"T-stat: {}, p-value: {}\".format(round(t,2), p))"
   ]
  },
  {
   "cell_type": "markdown",
   "metadata": {},
   "source": [
    "### **Hypothesis 2**\n",
    "**Question**: Is amount of discount significant in predicting quantity of the item per order?  \n",
    "**H0**: There is no significant difference in quantity of orders based on the amount of discount.  \n",
    "**H1**: There is no significant difference in quantity of orders based on the amount of discount."
   ]
  },
  {
   "cell_type": "markdown",
   "metadata": {},
   "source": [
    "Here we use ANOVA to whether the different discount groups (different amounts) is significant in quantity ordered"
   ]
  },
  {
   "cell_type": "code",
   "execution_count": 22,
   "metadata": {},
   "outputs": [
    {
     "name": "stdout",
     "output_type": "stream",
     "text": [
      "                    sum_sq      df         F        PR(>F)\n",
      "C(Discount)   17348.854662     5.0  9.798709  2.840681e-09\n",
      "Residual     758138.565924  2141.0       NaN           NaN\n"
     ]
    }
   ],
   "source": [
    "# Your code here\n",
    "formula = 'Quantity ~ C(Discount)'\n",
    "lm = ols(formula,df).fit() \n",
    "table = sm.stats.anova_lm(lm, typ=2)\n",
    "print(table)"
   ]
  },
  {
   "cell_type": "markdown",
   "metadata": {},
   "source": [
    "Treating each discount group as a categorical variable, and using an anova to test the multiple categories, we get a p-value less than 0.05. This means we can reject the null hypothesis and amount of discount is significant in order quantity "
   ]
  },
  {
   "cell_type": "markdown",
   "metadata": {},
   "source": [
    "### **Hypothesis 2(a):**  At what price is discount significant?\n",
    "To determine at which discount amount is significant in predicting quantity, we can build a baseline linear regression model, with a categorical vairable for discount amount to investgiate the effect of each group."
   ]
  },
  {
   "cell_type": "code",
   "execution_count": 23,
   "metadata": {},
   "outputs": [
    {
     "data": {
      "text/html": [
       "<div>\n",
       "<style scoped>\n",
       "    .dataframe tbody tr th:only-of-type {\n",
       "        vertical-align: middle;\n",
       "    }\n",
       "\n",
       "    .dataframe tbody tr th {\n",
       "        vertical-align: top;\n",
       "    }\n",
       "\n",
       "    .dataframe thead th {\n",
       "        text-align: right;\n",
       "    }\n",
       "</style>\n",
       "<table border=\"1\" class=\"dataframe\">\n",
       "  <thead>\n",
       "    <tr style=\"text-align: right;\">\n",
       "      <th></th>\n",
       "      <th>UnitPrice</th>\n",
       "      <th>Quantity</th>\n",
       "      <th>discount_00</th>\n",
       "      <th>discount_005</th>\n",
       "      <th>discount_01</th>\n",
       "      <th>discount_015</th>\n",
       "      <th>discount_02</th>\n",
       "      <th>discount_025</th>\n",
       "    </tr>\n",
       "  </thead>\n",
       "  <tbody>\n",
       "    <tr>\n",
       "      <th>0</th>\n",
       "      <td>14.0</td>\n",
       "      <td>12</td>\n",
       "      <td>1</td>\n",
       "      <td>0</td>\n",
       "      <td>0</td>\n",
       "      <td>0</td>\n",
       "      <td>0</td>\n",
       "      <td>0</td>\n",
       "    </tr>\n",
       "    <tr>\n",
       "      <th>1</th>\n",
       "      <td>9.8</td>\n",
       "      <td>10</td>\n",
       "      <td>1</td>\n",
       "      <td>0</td>\n",
       "      <td>0</td>\n",
       "      <td>0</td>\n",
       "      <td>0</td>\n",
       "      <td>0</td>\n",
       "    </tr>\n",
       "    <tr>\n",
       "      <th>2</th>\n",
       "      <td>34.8</td>\n",
       "      <td>5</td>\n",
       "      <td>1</td>\n",
       "      <td>0</td>\n",
       "      <td>0</td>\n",
       "      <td>0</td>\n",
       "      <td>0</td>\n",
       "      <td>0</td>\n",
       "    </tr>\n",
       "    <tr>\n",
       "      <th>3</th>\n",
       "      <td>18.6</td>\n",
       "      <td>9</td>\n",
       "      <td>1</td>\n",
       "      <td>0</td>\n",
       "      <td>0</td>\n",
       "      <td>0</td>\n",
       "      <td>0</td>\n",
       "      <td>0</td>\n",
       "    </tr>\n",
       "    <tr>\n",
       "      <th>4</th>\n",
       "      <td>42.4</td>\n",
       "      <td>40</td>\n",
       "      <td>1</td>\n",
       "      <td>0</td>\n",
       "      <td>0</td>\n",
       "      <td>0</td>\n",
       "      <td>0</td>\n",
       "      <td>0</td>\n",
       "    </tr>\n",
       "  </tbody>\n",
       "</table>\n",
       "</div>"
      ],
      "text/plain": [
       "   UnitPrice  Quantity  discount_00  discount_005  discount_01  discount_015  \\\n",
       "0       14.0        12            1             0            0             0   \n",
       "1        9.8        10            1             0            0             0   \n",
       "2       34.8         5            1             0            0             0   \n",
       "3       18.6         9            1             0            0             0   \n",
       "4       42.4        40            1             0            0             0   \n",
       "\n",
       "   discount_02  discount_025  \n",
       "0            0             0  \n",
       "1            0             0  \n",
       "2            0             0  \n",
       "3            0             0  \n",
       "4            0             0  "
      ]
     },
     "execution_count": 23,
     "metadata": {},
     "output_type": "execute_result"
    }
   ],
   "source": [
    "df_ols = pd.get_dummies(df, columns=['Discount'], prefix=[\"discount\"])\n",
    "X = df_ols.drop(['Id', 'OrderId', 'ProductId'], axis=1)\n",
    "new_columns = []\n",
    "for x in X.columns:\n",
    "    x = x.replace(\".\", '')\n",
    "    new_columns.append(x)\n",
    "X.columns = new_columns\n",
    "X.head()"
   ]
  },
  {
   "cell_type": "code",
   "execution_count": 24,
   "metadata": {},
   "outputs": [],
   "source": [
    "outcome = 'Quantity'\n",
    "predictors = X.drop(columns=['Quantity', 'UnitPrice']).columns\n",
    "f = '+'.join(predictors)\n",
    "formula = outcome + '~' + f\n",
    "stats_model = ols(formula=formula, data=X).fit()"
   ]
  },
  {
   "cell_type": "code",
   "execution_count": 25,
   "metadata": {},
   "outputs": [
    {
     "data": {
      "text/html": [
       "<table class=\"simpletable\">\n",
       "<caption>OLS Regression Results</caption>\n",
       "<tr>\n",
       "  <th>Dep. Variable:</th>        <td>Quantity</td>     <th>  R-squared:         </th> <td>   0.022</td> \n",
       "</tr>\n",
       "<tr>\n",
       "  <th>Model:</th>                   <td>OLS</td>       <th>  Adj. R-squared:    </th> <td>   0.020</td> \n",
       "</tr>\n",
       "<tr>\n",
       "  <th>Method:</th>             <td>Least Squares</td>  <th>  F-statistic:       </th> <td>   9.799</td> \n",
       "</tr>\n",
       "<tr>\n",
       "  <th>Date:</th>             <td>Thu, 25 Feb 2021</td> <th>  Prob (F-statistic):</th> <td>2.84e-09</td> \n",
       "</tr>\n",
       "<tr>\n",
       "  <th>Time:</th>                 <td>15:19:06</td>     <th>  Log-Likelihood:    </th> <td> -9344.5</td> \n",
       "</tr>\n",
       "<tr>\n",
       "  <th>No. Observations:</th>      <td>  2147</td>      <th>  AIC:               </th> <td>1.870e+04</td>\n",
       "</tr>\n",
       "<tr>\n",
       "  <th>Df Residuals:</th>          <td>  2141</td>      <th>  BIC:               </th> <td>1.873e+04</td>\n",
       "</tr>\n",
       "<tr>\n",
       "  <th>Df Model:</th>              <td>     5</td>      <th>                     </th>     <td> </td>    \n",
       "</tr>\n",
       "<tr>\n",
       "  <th>Covariance Type:</th>      <td>nonrobust</td>    <th>                     </th>     <td> </td>    \n",
       "</tr>\n",
       "</table>\n",
       "<table class=\"simpletable\">\n",
       "<tr>\n",
       "        <td></td>          <th>coef</th>     <th>std err</th>      <th>t</th>      <th>P>|t|</th>  <th>[0.025</th>    <th>0.975]</th>  \n",
       "</tr>\n",
       "<tr>\n",
       "  <th>Intercept</th>    <td>   22.6586</td> <td>    0.473</td> <td>   47.858</td> <td> 0.000</td> <td>   21.730</td> <td>   23.587</td>\n",
       "</tr>\n",
       "<tr>\n",
       "  <th>discount_00</th>  <td>   -0.9434</td> <td>    0.645</td> <td>   -1.462</td> <td> 0.144</td> <td>   -2.209</td> <td>    0.322</td>\n",
       "</tr>\n",
       "<tr>\n",
       "  <th>discount_005</th> <td>    5.3522</td> <td>    1.261</td> <td>    4.243</td> <td> 0.000</td> <td>    2.878</td> <td>    7.826</td>\n",
       "</tr>\n",
       "<tr>\n",
       "  <th>discount_01</th>  <td>    2.5784</td> <td>    1.299</td> <td>    1.986</td> <td> 0.047</td> <td>    0.032</td> <td>    5.125</td>\n",
       "</tr>\n",
       "<tr>\n",
       "  <th>discount_015</th> <td>    5.7235</td> <td>    1.355</td> <td>    4.225</td> <td> 0.000</td> <td>    3.067</td> <td>    8.380</td>\n",
       "</tr>\n",
       "<tr>\n",
       "  <th>discount_02</th>  <td>    4.3662</td> <td>    1.340</td> <td>    3.259</td> <td> 0.001</td> <td>    1.739</td> <td>    6.994</td>\n",
       "</tr>\n",
       "<tr>\n",
       "  <th>discount_025</th> <td>    5.5816</td> <td>    1.366</td> <td>    4.085</td> <td> 0.000</td> <td>    2.902</td> <td>    8.261</td>\n",
       "</tr>\n",
       "</table>\n",
       "<table class=\"simpletable\">\n",
       "<tr>\n",
       "  <th>Omnibus:</th>       <td>784.809</td> <th>  Durbin-Watson:     </th> <td>   1.643</td>\n",
       "</tr>\n",
       "<tr>\n",
       "  <th>Prob(Omnibus):</th> <td> 0.000</td>  <th>  Jarque-Bera (JB):  </th> <td>3071.552</td>\n",
       "</tr>\n",
       "<tr>\n",
       "  <th>Skew:</th>          <td> 1.770</td>  <th>  Prob(JB):          </th> <td>    0.00</td>\n",
       "</tr>\n",
       "<tr>\n",
       "  <th>Kurtosis:</th>      <td> 7.670</td>  <th>  Cond. No.          </th> <td>1.55e+16</td>\n",
       "</tr>\n",
       "</table><br/><br/>Warnings:<br/>[1] Standard Errors assume that the covariance matrix of the errors is correctly specified.<br/>[2] The smallest eigenvalue is 1.31e-29. This might indicate that there are<br/>strong multicollinearity problems or that the design matrix is singular."
      ],
      "text/plain": [
       "<class 'statsmodels.iolib.summary.Summary'>\n",
       "\"\"\"\n",
       "                            OLS Regression Results                            \n",
       "==============================================================================\n",
       "Dep. Variable:               Quantity   R-squared:                       0.022\n",
       "Model:                            OLS   Adj. R-squared:                  0.020\n",
       "Method:                 Least Squares   F-statistic:                     9.799\n",
       "Date:                Thu, 25 Feb 2021   Prob (F-statistic):           2.84e-09\n",
       "Time:                        15:19:06   Log-Likelihood:                -9344.5\n",
       "No. Observations:                2147   AIC:                         1.870e+04\n",
       "Df Residuals:                    2141   BIC:                         1.873e+04\n",
       "Df Model:                           5                                         \n",
       "Covariance Type:            nonrobust                                         \n",
       "================================================================================\n",
       "                   coef    std err          t      P>|t|      [0.025      0.975]\n",
       "--------------------------------------------------------------------------------\n",
       "Intercept       22.6586      0.473     47.858      0.000      21.730      23.587\n",
       "discount_00     -0.9434      0.645     -1.462      0.144      -2.209       0.322\n",
       "discount_005     5.3522      1.261      4.243      0.000       2.878       7.826\n",
       "discount_01      2.5784      1.299      1.986      0.047       0.032       5.125\n",
       "discount_015     5.7235      1.355      4.225      0.000       3.067       8.380\n",
       "discount_02      4.3662      1.340      3.259      0.001       1.739       6.994\n",
       "discount_025     5.5816      1.366      4.085      0.000       2.902       8.261\n",
       "==============================================================================\n",
       "Omnibus:                      784.809   Durbin-Watson:                   1.643\n",
       "Prob(Omnibus):                  0.000   Jarque-Bera (JB):             3071.552\n",
       "Skew:                           1.770   Prob(JB):                         0.00\n",
       "Kurtosis:                       7.670   Cond. No.                     1.55e+16\n",
       "==============================================================================\n",
       "\n",
       "Warnings:\n",
       "[1] Standard Errors assume that the covariance matrix of the errors is correctly specified.\n",
       "[2] The smallest eigenvalue is 1.31e-29. This might indicate that there are\n",
       "strong multicollinearity problems or that the design matrix is singular.\n",
       "\"\"\""
      ]
     },
     "execution_count": 25,
     "metadata": {},
     "output_type": "execute_result"
    }
   ],
   "source": [
    "stats_model.summary()"
   ]
  },
  {
   "cell_type": "markdown",
   "metadata": {},
   "source": [
    "Here we can see that all discounts from 5%-25% are significant in predicting quantity ordered. However, the coefficients show that 10% discount has less of an effect."
   ]
  },
  {
   "cell_type": "code",
   "execution_count": 26,
   "metadata": {},
   "outputs": [
    {
     "name": "stdout",
     "output_type": "stream",
     "text": [
      "<class 'pandas.core.frame.DataFrame'>\n",
      "Int64Index: 2147 entries, 0 to 2154\n",
      "Data columns (total 2 columns):\n",
      " #   Column    Non-Null Count  Dtype \n",
      "---  ------    --------------  ----- \n",
      " 0   Discount  2147 non-null   object\n",
      " 1   Quantity  2147 non-null   int64 \n",
      "dtypes: int64(1), object(1)\n",
      "memory usage: 50.3+ KB\n"
     ]
    }
   ],
   "source": [
    "#TUKEY TEST\n",
    "tukey_df = df[['Discount', 'Quantity']]\n",
    "tukey_df['Discount'] = tukey_df.Discount.astype(str, copy=False)\n",
    "tukey_df.info()"
   ]
  },
  {
   "cell_type": "code",
   "execution_count": 27,
   "metadata": {},
   "outputs": [
    {
     "name": "stdout",
     "output_type": "stream",
     "text": [
      "Multiple Comparison of Means - Tukey HSD, FWER=0.05 \n",
      "====================================================\n",
      "group1 group2 meandiff p-adj   lower   upper  reject\n",
      "----------------------------------------------------\n",
      "   0.0   0.05   6.2955  0.001  2.0814 10.5097   True\n",
      "   0.0    0.1   3.5217 0.1885 -0.8187  7.8622  False\n",
      "   0.0   0.15   6.6669  0.001  2.1352 11.1986   True\n",
      "   0.0    0.2   5.3096 0.0096  0.8285  9.7907   True\n",
      "   0.0   0.25    6.525  0.001   1.954  11.096   True\n",
      "  0.05    0.1  -2.7738  0.704 -8.4504  2.9028  False\n",
      "  0.05   0.15   0.3714    0.9 -5.4528  6.1955  False\n",
      "  0.05    0.2   -0.986    0.9 -6.7708  4.7989  False\n",
      "  0.05   0.25   0.2294    0.9 -5.6253  6.0842  False\n",
      "   0.1   0.15   3.1452 0.6333  -2.771  9.0613  False\n",
      "   0.1    0.2   1.7879    0.9 -4.0896  7.6653  False\n",
      "   0.1   0.25   3.0033  0.677  -2.943  8.9496  False\n",
      "  0.15    0.2  -1.3573    0.9 -7.3775  4.6628  False\n",
      "  0.15   0.25  -0.1419    0.9 -6.2292  5.9454  False\n",
      "   0.2   0.25   1.2154    0.9 -4.8343  7.2652  False\n",
      "----------------------------------------------------\n"
     ]
    }
   ],
   "source": [
    "MultiComp = MultiComparison(tukey_df['Quantity'],\n",
    "                            tukey_df['Discount'])\n",
    "print(MultiComp.tukeyhsd().summary())"
   ]
  },
  {
   "cell_type": "markdown",
   "metadata": {},
   "source": [
    "With the exception of 10%, any discount is better than a 0/full price offering. However, there is no significant difference between each of the discount groups. This suggests that if one would like to maximize their profits. The business could give the smallest significant discount: 5%. However, 15% has the largest difference in quantity ordered at 6.7 more items ordered."
   ]
  },
  {
   "cell_type": "markdown",
   "metadata": {},
   "source": [
    "### **Hypothesis 3**"
   ]
  },
  {
   "cell_type": "markdown",
   "metadata": {},
   "source": [
    "**Question** is there an interaction between unit price & discount? The idea is that some low cost items (for example, paper clips) a 5 vs. 25 % discount will be just a few pennies or maybe a dollar.  \n",
    "First, let's look more closely at the unit price feature."
   ]
  },
  {
   "cell_type": "code",
   "execution_count": 28,
   "metadata": {},
   "outputs": [
    {
     "data": {
      "text/plain": [
       "<matplotlib.axes._subplots.AxesSubplot at 0x7fc44271d2e8>"
      ]
     },
     "execution_count": 28,
     "metadata": {},
     "output_type": "execute_result"
    },
    {
     "data": {
      "image/png": "[encoded data removed]",
      "text/plain": [
       "<Figure size 432x288 with 1 Axes>"
      ]
     },
     "metadata": {
      "needs_background": "light"
     },
     "output_type": "display_data"
    }
   ],
   "source": [
    "df['UnitPrice'].hist(bins = 50)"
   ]
  },
  {
   "cell_type": "markdown",
   "metadata": {},
   "source": [
    "Looking at the histogram, we could partition the data into three bins, indicating lower cost, medium, and higher cost items. I chose to categorize into bins of unit prices less than \\\\$25, \\\\$25-50, and greater than \\\\$50"
   ]
  },
  {
   "cell_type": "code",
   "execution_count": 29,
   "metadata": {},
   "outputs": [],
   "source": [
    "less_25_df = df[df['UnitPrice'] < 25]\n",
    "twentyfive_50_df = df[(df['UnitPrice'] >= 25) & (df['UnitPrice'] < 50)]\n",
    "greater_50_df = df[df['UnitPrice'] >= 50]"
   ]
  },
  {
   "cell_type": "code",
   "execution_count": 30,
   "metadata": {},
   "outputs": [],
   "source": [
    "less_25_model = LinearRegression()\n",
    "twenty_50_model = LinearRegression()\n",
    "grater_50_model = LinearRegression()\n",
    "\n",
    "x_less_25 = less_25_df['Discount'].values.reshape(-1,1)\n",
    "y_less_25 = less_25_df['Quantity'].values.reshape(-1,1)\n",
    "\n",
    "x_25_50 = twentyfive_50_df['Discount'].values.reshape(-1,1)\n",
    "y_25_50 = twentyfive_50_df['Quantity'].values.reshape(-1,1)\n",
    "\n",
    "x_50_greater = greater_50_df['Discount'].values.reshape(-1,1)\n",
    "y_50_greater = greater_50_df['Quantity'].values.reshape(-1,1)\n",
    "\n",
    "less_25_model.fit(x_less_25, y_less_25)\n",
    "twenty_50_model.fit(x_25_50, y_25_50)\n",
    "grater_50_model.fit(x_50_greater, y_50_greater)\n",
    "\n",
    "pred_1 = less_25_model.predict(x_less_25)\n",
    "pred_2 = twenty_50_model.predict(x_25_50)\n",
    "pred_3 = grater_50_model.predict(x_50_greater)"
   ]
  },
  {
   "cell_type": "code",
   "execution_count": 31,
   "metadata": {},
   "outputs": [
    {
     "data": {
      "image/png": "[encoded data removed]",
      "text/plain": [
       "<Figure size 720x432 with 1 Axes>"
      ]
     },
     "metadata": {
      "needs_background": "light"
     },
     "output_type": "display_data"
    }
   ],
   "source": [
    "plt.figure(figsize=(10,6))\n",
    "plt.scatter(x_less_25, y_less_25, label='less than $25', c='red')\n",
    "plt.scatter(x_25_50, y_25_50, label='\\$25 to less than \\$50', c='blue')\n",
    "plt.scatter(x_50_greater, y_50_greater, label='$50 and greater',c='orange')\n",
    "\n",
    "plt.plot(x_less_25, pred_1, c='red')\n",
    "plt.plot(x_25_50, pred_2, c='blue')\n",
    "plt.plot(x_50_greater, pred_3, c='orange')\n",
    "plt.xlabel('Discount')\n",
    "plt.ylabel('Quantity ordered')\n",
    "plt.legend()\n",
    "plt.show();"
   ]
  },
  {
   "cell_type": "markdown",
   "metadata": {},
   "source": [
    "This graph plots regression lines for the three bins of cost. It's difficult to see whether high cost items are lower or the same as the other categories when discount amount is low. So the graph below zooms in."
   ]
  },
  {
   "cell_type": "code",
   "execution_count": 32,
   "metadata": {},
   "outputs": [
    {
     "data": {
      "image/png": "[encoded data removed]",
      "text/plain": [
       "<Figure size 720x432 with 1 Axes>"
      ]
     },
     "metadata": {
      "needs_background": "light"
     },
     "output_type": "display_data"
    }
   ],
   "source": [
    "plt.figure(figsize=(10,6))\n",
    "plt.scatter(x_less_25, y_less_25, label='less than $25', c='red')\n",
    "plt.scatter(x_25_50, y_25_50, label='\\$25 to less than \\$50', c='blue')\n",
    "plt.scatter(x_50_greater, y_50_greater, label='$50 and greater',c='orange')\n",
    "\n",
    "plt.plot(x_less_25, pred_1, c='red')\n",
    "plt.plot(x_25_50, pred_2, c='blue')\n",
    "plt.plot(x_50_greater, pred_3, c='orange')\n",
    "plt.xlabel('Discount')\n",
    "plt.ylabel('Quantity ordered')\n",
    "plt.ylim(10, 40)\n",
    "plt.legend()\n",
    "plt.show();"
   ]
  },
  {
   "cell_type": "markdown",
   "metadata": {},
   "source": [
    "We can see here that there is an interaction between discount & unit price. at 5\\% discount the items that are greater than \\\\$50 have fewer quantities ordered than the other two categories, at 10\\% the same as those that are \\\\$25 - 50, and then after 15\\% is surpasses the other two categories. This makes sense as a larger discount on a more expensive items, means the total dollar savings will be greater. "
   ]
  },
  {
   "cell_type": "markdown",
   "metadata": {},
   "source": [
    "#### Build an interaction model to determine whether interaction is significant."
   ]
  },
  {
   "cell_type": "code",
   "execution_count": 33,
   "metadata": {},
   "outputs": [],
   "source": [
    "X_interact_categorical = X.drop(columns=['Quantity']).copy()\n",
    "X_interact_categorical['UnitPrice_Discount'] = df['UnitPrice'] * df['Discount']"
   ]
  },
  {
   "cell_type": "code",
   "execution_count": 34,
   "metadata": {},
   "outputs": [],
   "source": [
    "y = X['Quantity']"
   ]
  },
  {
   "cell_type": "code",
   "execution_count": 35,
   "metadata": {
    "scrolled": true
   },
   "outputs": [
    {
     "data": {
      "text/html": [
       "<table class=\"simpletable\">\n",
       "<caption>OLS Regression Results</caption>\n",
       "<tr>\n",
       "  <th>Dep. Variable:</th>        <td>Quantity</td>     <th>  R-squared:         </th> <td>   0.023</td> \n",
       "</tr>\n",
       "<tr>\n",
       "  <th>Model:</th>                   <td>OLS</td>       <th>  Adj. R-squared:    </th> <td>   0.020</td> \n",
       "</tr>\n",
       "<tr>\n",
       "  <th>Method:</th>             <td>Least Squares</td>  <th>  F-statistic:       </th> <td>   7.296</td> \n",
       "</tr>\n",
       "<tr>\n",
       "  <th>Date:</th>             <td>Thu, 25 Feb 2021</td> <th>  Prob (F-statistic):</th> <td>1.14e-08</td> \n",
       "</tr>\n",
       "<tr>\n",
       "  <th>Time:</th>                 <td>15:19:22</td>     <th>  Log-Likelihood:    </th> <td> -9343.4</td> \n",
       "</tr>\n",
       "<tr>\n",
       "  <th>No. Observations:</th>      <td>  2147</td>      <th>  AIC:               </th> <td>1.870e+04</td>\n",
       "</tr>\n",
       "<tr>\n",
       "  <th>Df Residuals:</th>          <td>  2139</td>      <th>  BIC:               </th> <td>1.875e+04</td>\n",
       "</tr>\n",
       "<tr>\n",
       "  <th>Df Model:</th>              <td>     7</td>      <th>                     </th>     <td> </td>    \n",
       "</tr>\n",
       "<tr>\n",
       "  <th>Covariance Type:</th>      <td>nonrobust</td>    <th>                     </th>     <td> </td>    \n",
       "</tr>\n",
       "</table>\n",
       "<table class=\"simpletable\">\n",
       "<tr>\n",
       "           <td></td>             <th>coef</th>     <th>std err</th>      <th>t</th>      <th>P>|t|</th>  <th>[0.025</th>    <th>0.975]</th>  \n",
       "</tr>\n",
       "<tr>\n",
       "  <th>const</th>              <td>   22.1304</td> <td>    0.640</td> <td>   34.565</td> <td> 0.000</td> <td>   20.875</td> <td>   23.386</td>\n",
       "</tr>\n",
       "<tr>\n",
       "  <th>UnitPrice</th>          <td>   -0.0073</td> <td>    0.016</td> <td>   -0.453</td> <td> 0.650</td> <td>   -0.039</td> <td>    0.024</td>\n",
       "</tr>\n",
       "<tr>\n",
       "  <th>discount_00</th>        <td>   -0.2249</td> <td>    0.833</td> <td>   -0.270</td> <td> 0.787</td> <td>   -1.859</td> <td>    1.409</td>\n",
       "</tr>\n",
       "<tr>\n",
       "  <th>discount_005</th>       <td>    5.7175</td> <td>    1.299</td> <td>    4.402</td> <td> 0.000</td> <td>    3.170</td> <td>    8.265</td>\n",
       "</tr>\n",
       "<tr>\n",
       "  <th>discount_01</th>        <td>    2.6574</td> <td>    1.301</td> <td>    2.043</td> <td> 0.041</td> <td>    0.107</td> <td>    5.208</td>\n",
       "</tr>\n",
       "<tr>\n",
       "  <th>discount_015</th>       <td>    5.5532</td> <td>    1.360</td> <td>    4.083</td> <td> 0.000</td> <td>    2.886</td> <td>    8.220</td>\n",
       "</tr>\n",
       "<tr>\n",
       "  <th>discount_02</th>        <td>    3.8837</td> <td>    1.383</td> <td>    2.809</td> <td> 0.005</td> <td>    1.173</td> <td>    6.595</td>\n",
       "</tr>\n",
       "<tr>\n",
       "  <th>discount_025</th>       <td>    4.5435</td> <td>    1.547</td> <td>    2.937</td> <td> 0.003</td> <td>    1.509</td> <td>    7.578</td>\n",
       "</tr>\n",
       "<tr>\n",
       "  <th>UnitPrice_Discount</th> <td>    0.2511</td> <td>    0.179</td> <td>    1.401</td> <td> 0.161</td> <td>   -0.100</td> <td>    0.603</td>\n",
       "</tr>\n",
       "</table>\n",
       "<table class=\"simpletable\">\n",
       "<tr>\n",
       "  <th>Omnibus:</th>       <td>786.913</td> <th>  Durbin-Watson:     </th> <td>   1.646</td>\n",
       "</tr>\n",
       "<tr>\n",
       "  <th>Prob(Omnibus):</th> <td> 0.000</td>  <th>  Jarque-Bera (JB):  </th> <td>3094.777</td>\n",
       "</tr>\n",
       "<tr>\n",
       "  <th>Skew:</th>          <td> 1.773</td>  <th>  Prob(JB):          </th> <td>    0.00</td>\n",
       "</tr>\n",
       "<tr>\n",
       "  <th>Kurtosis:</th>      <td> 7.692</td>  <th>  Cond. No.          </th> <td>6.01e+17</td>\n",
       "</tr>\n",
       "</table><br/><br/>Warnings:<br/>[1] Standard Errors assume that the covariance matrix of the errors is correctly specified.<br/>[2] The smallest eigenvalue is 9.41e-30. This might indicate that there are<br/>strong multicollinearity problems or that the design matrix is singular."
      ],
      "text/plain": [
       "<class 'statsmodels.iolib.summary.Summary'>\n",
       "\"\"\"\n",
       "                            OLS Regression Results                            \n",
       "==============================================================================\n",
       "Dep. Variable:               Quantity   R-squared:                       0.023\n",
       "Model:                            OLS   Adj. R-squared:                  0.020\n",
       "Method:                 Least Squares   F-statistic:                     7.296\n",
       "Date:                Thu, 25 Feb 2021   Prob (F-statistic):           1.14e-08\n",
       "Time:                        15:19:22   Log-Likelihood:                -9343.4\n",
       "No. Observations:                2147   AIC:                         1.870e+04\n",
       "Df Residuals:                    2139   BIC:                         1.875e+04\n",
       "Df Model:                           7                                         \n",
       "Covariance Type:            nonrobust                                         \n",
       "======================================================================================\n",
       "                         coef    std err          t      P>|t|      [0.025      0.975]\n",
       "--------------------------------------------------------------------------------------\n",
       "const                 22.1304      0.640     34.565      0.000      20.875      23.386\n",
       "UnitPrice             -0.0073      0.016     -0.453      0.650      -0.039       0.024\n",
       "discount_00           -0.2249      0.833     -0.270      0.787      -1.859       1.409\n",
       "discount_005           5.7175      1.299      4.402      0.000       3.170       8.265\n",
       "discount_01            2.6574      1.301      2.043      0.041       0.107       5.208\n",
       "discount_015           5.5532      1.360      4.083      0.000       2.886       8.220\n",
       "discount_02            3.8837      1.383      2.809      0.005       1.173       6.595\n",
       "discount_025           4.5435      1.547      2.937      0.003       1.509       7.578\n",
       "UnitPrice_Discount     0.2511      0.179      1.401      0.161      -0.100       0.603\n",
       "==============================================================================\n",
       "Omnibus:                      786.913   Durbin-Watson:                   1.646\n",
       "Prob(Omnibus):                  0.000   Jarque-Bera (JB):             3094.777\n",
       "Skew:                           1.773   Prob(JB):                         0.00\n",
       "Kurtosis:                       7.692   Cond. No.                     6.01e+17\n",
       "==============================================================================\n",
       "\n",
       "Warnings:\n",
       "[1] Standard Errors assume that the covariance matrix of the errors is correctly specified.\n",
       "[2] The smallest eigenvalue is 9.41e-30. This might indicate that there are\n",
       "strong multicollinearity problems or that the design matrix is singular.\n",
       "\"\"\""
      ]
     },
     "execution_count": 35,
     "metadata": {},
     "output_type": "execute_result"
    }
   ],
   "source": [
    "X_interact_categorical = sm.add_constant(X_interact_categorical)\n",
    "model = sm.OLS(y,X_interact_categorical)\n",
    "results = model.fit()\n",
    "\n",
    "results.summary()"
   ]
  },
  {
   "cell_type": "markdown",
   "metadata": {},
   "source": [
    "The interaction is not significant. "
   ]
  },
  {
   "cell_type": "markdown",
   "metadata": {},
   "source": [
    "### Cross-Validation on Baseline & Interaction models"
   ]
  },
  {
   "cell_type": "code",
   "execution_count": 36,
   "metadata": {},
   "outputs": [
    {
     "data": {
      "text/plain": [
       "0.013966779565708095"
      ]
     },
     "execution_count": 36,
     "metadata": {},
     "output_type": "execute_result"
    }
   ],
   "source": [
    "regression_baseline = LinearRegression()\n",
    "crossvalidation = KFold(n_splits=3, shuffle=True, random_state=1)\n",
    "\n",
    "\n",
    "baseline = np.mean(cross_val_score(regression_baseline, X.drop(columns=['Quantity']), y, scoring='r2', cv=crossvalidation))\n",
    "baseline"
   ]
  },
  {
   "cell_type": "code",
   "execution_count": 37,
   "metadata": {},
   "outputs": [
    {
     "data": {
      "text/plain": [
       "0.013715108304171478"
      ]
     },
     "execution_count": 37,
     "metadata": {},
     "output_type": "execute_result"
    }
   ],
   "source": [
    "regression_interact = LinearRegression()\n",
    "\n",
    "interact_model_score = np.mean(cross_val_score(regression_interact, X_interact_categorical, y, scoring='r2', cv=crossvalidation))\n",
    "interact_model_score"
   ]
  },
  {
   "cell_type": "markdown",
   "metadata": {},
   "source": [
    "Consistent with the interaction of price & discount amount, cross-validation shows that includng the interaction does not yield in a better model. (R2 score is best fit, so larger is better)"
   ]
  },
  {
   "cell_type": "markdown",
   "metadata": {},
   "source": [
    "### **Hypothesis 4**\n",
    "\n",
    "Some products you don't need a lot of and therefore you wouldn't buy more in one order despite their being a discount. For example, you would only buy 1 fridge regardless if it's on sale. (You might wait to buy it when it's on discount but short of being a contractor who installs fridges, you wouldn't buy more than 1). In contrast, if some canned food was on sale, you might buy a few extra cans since they won't go bad too quickly.  \n",
    "  \n",
    "**H0** Product Id & discount is not significant in predicting quantity ordered.  \n",
    "**H1** Product Id & discount is significant in predicting quantity ordered."
   ]
  },
  {
   "cell_type": "code",
   "execution_count": 38,
   "metadata": {},
   "outputs": [
    {
     "data": {
      "text/plain": [
       "<matplotlib.axes._subplots.AxesSubplot at 0x7fc444641a20>"
      ]
     },
     "execution_count": 38,
     "metadata": {},
     "output_type": "execute_result"
    },
    {
     "data": {
      "image/png": "[encoded data removed]",
      "text/plain": [
       "<Figure size 432x288 with 1 Axes>"
      ]
     },
     "metadata": {
      "needs_background": "light"
     },
     "output_type": "display_data"
    }
   ],
   "source": [
    "df['ProductId'].hist(bins = 80)"
   ]
  },
  {
   "cell_type": "code",
   "execution_count": 39,
   "metadata": {},
   "outputs": [],
   "source": [
    "df_product = df.groupby('ProductId').agg({'Quantity':[('quantity_avg', 'mean'), \n",
    "                                                     ('quantity_sum', 'sum'),\n",
    "                                                    ('quantity_max', 'max')]}) # max_height=('height', 'max'), min_weight=('weight', 'min')"
   ]
  },
  {
   "cell_type": "code",
   "execution_count": 40,
   "metadata": {},
   "outputs": [
    {
     "data": {
      "text/html": [
       "<div>\n",
       "<style scoped>\n",
       "    .dataframe tbody tr th:only-of-type {\n",
       "        vertical-align: middle;\n",
       "    }\n",
       "\n",
       "    .dataframe tbody tr th {\n",
       "        vertical-align: top;\n",
       "    }\n",
       "\n",
       "    .dataframe thead tr th {\n",
       "        text-align: left;\n",
       "    }\n",
       "\n",
       "    .dataframe thead tr:last-of-type th {\n",
       "        text-align: right;\n",
       "    }\n",
       "</style>\n",
       "<table border=\"1\" class=\"dataframe\">\n",
       "  <thead>\n",
       "    <tr>\n",
       "      <th></th>\n",
       "      <th colspan=\"3\" halign=\"left\">Quantity</th>\n",
       "    </tr>\n",
       "    <tr>\n",
       "      <th></th>\n",
       "      <th>quantity_avg</th>\n",
       "      <th>quantity_sum</th>\n",
       "      <th>quantity_max</th>\n",
       "    </tr>\n",
       "    <tr>\n",
       "      <th>ProductId</th>\n",
       "      <th></th>\n",
       "      <th></th>\n",
       "      <th></th>\n",
       "    </tr>\n",
       "  </thead>\n",
       "  <tbody>\n",
       "    <tr>\n",
       "      <th>1</th>\n",
       "      <td>21.789474</td>\n",
       "      <td>828</td>\n",
       "      <td>80</td>\n",
       "    </tr>\n",
       "    <tr>\n",
       "      <th>2</th>\n",
       "      <td>24.022727</td>\n",
       "      <td>1057</td>\n",
       "      <td>100</td>\n",
       "    </tr>\n",
       "    <tr>\n",
       "      <th>3</th>\n",
       "      <td>27.333333</td>\n",
       "      <td>328</td>\n",
       "      <td>60</td>\n",
       "    </tr>\n",
       "    <tr>\n",
       "      <th>4</th>\n",
       "      <td>22.650000</td>\n",
       "      <td>453</td>\n",
       "      <td>50</td>\n",
       "    </tr>\n",
       "    <tr>\n",
       "      <th>5</th>\n",
       "      <td>29.800000</td>\n",
       "      <td>298</td>\n",
       "      <td>70</td>\n",
       "    </tr>\n",
       "    <tr>\n",
       "      <th>...</th>\n",
       "      <td>...</td>\n",
       "      <td>...</td>\n",
       "      <td>...</td>\n",
       "    </tr>\n",
       "    <tr>\n",
       "      <th>73</th>\n",
       "      <td>22.384615</td>\n",
       "      <td>291</td>\n",
       "      <td>50</td>\n",
       "    </tr>\n",
       "    <tr>\n",
       "      <th>74</th>\n",
       "      <td>22.846154</td>\n",
       "      <td>297</td>\n",
       "      <td>50</td>\n",
       "    </tr>\n",
       "    <tr>\n",
       "      <th>75</th>\n",
       "      <td>25.108696</td>\n",
       "      <td>1155</td>\n",
       "      <td>120</td>\n",
       "    </tr>\n",
       "    <tr>\n",
       "      <th>76</th>\n",
       "      <td>25.153846</td>\n",
       "      <td>981</td>\n",
       "      <td>90</td>\n",
       "    </tr>\n",
       "    <tr>\n",
       "      <th>77</th>\n",
       "      <td>20.815789</td>\n",
       "      <td>791</td>\n",
       "      <td>70</td>\n",
       "    </tr>\n",
       "  </tbody>\n",
       "</table>\n",
       "<p>77 rows × 3 columns</p>\n",
       "</div>"
      ],
      "text/plain": [
       "              Quantity                          \n",
       "          quantity_avg quantity_sum quantity_max\n",
       "ProductId                                       \n",
       "1            21.789474          828           80\n",
       "2            24.022727         1057          100\n",
       "3            27.333333          328           60\n",
       "4            22.650000          453           50\n",
       "5            29.800000          298           70\n",
       "...                ...          ...          ...\n",
       "73           22.384615          291           50\n",
       "74           22.846154          297           50\n",
       "75           25.108696         1155          120\n",
       "76           25.153846          981           90\n",
       "77           20.815789          791           70\n",
       "\n",
       "[77 rows x 3 columns]"
      ]
     },
     "execution_count": 40,
     "metadata": {},
     "output_type": "execute_result"
    }
   ],
   "source": [
    "df_product"
   ]
  },
  {
   "cell_type": "code",
   "execution_count": 41,
   "metadata": {},
   "outputs": [
    {
     "data": {
      "text/plain": [
       "(40.55555555555556, 17.24137931034483)"
      ]
     },
     "execution_count": 41,
     "metadata": {},
     "output_type": "execute_result"
    }
   ],
   "source": [
    "df_product['Quantity']['quantity_avg'].max(), df_product['Quantity']['quantity_avg'].min(),"
   ]
  },
  {
   "cell_type": "markdown",
   "metadata": {},
   "source": [
    "Product with the highest average quantity is 40 units, while the lowest average is 17."
   ]
  },
  {
   "cell_type": "code",
   "execution_count": 42,
   "metadata": {},
   "outputs": [
    {
     "data": {
      "text/plain": [
       "(130, 40)"
      ]
     },
     "execution_count": 42,
     "metadata": {},
     "output_type": "execute_result"
    }
   ],
   "source": [
    "df_product['Quantity']['quantity_max'].max(), df_product['Quantity']['quantity_max'].min()"
   ]
  },
  {
   "cell_type": "markdown",
   "metadata": {},
   "source": [
    "The product that has the highest maximal quantity in an order has 130 units, vs. the product who's max order is the least w.r.t. other products is at 40 units"
   ]
  },
  {
   "cell_type": "code",
   "execution_count": 43,
   "metadata": {},
   "outputs": [
    {
     "name": "stdout",
     "output_type": "stream",
     "text": [
      "                                 sum_sq      df         F    PR(>F)\n",
      "C(ProductId)               30035.597375    76.0  1.157125  0.248218\n",
      "C(Discount)                 3411.575000     5.0  1.997756  0.092411\n",
      "C(ProductId):C(Discount)  163431.977843   380.0  1.259247  0.002887\n",
      "Residual                  597013.143461  1748.0       NaN       NaN\n"
     ]
    }
   ],
   "source": [
    "formula = 'Quantity ~ C(ProductId) * C(Discount)'\n",
    "lm = ols(formula,df).fit() \n",
    "table = sm.stats.anova_lm(lm, typ=2)\n",
    "print(table)"
   ]
  },
  {
   "cell_type": "markdown",
   "metadata": {},
   "source": [
    "The interaction of ProductId and Discount is significant in predicting quantity. Below, I investigate broader categories of products to get a higher level view, and see if we can make a more generalizable discount strategy."
   ]
  },
  {
   "cell_type": "markdown",
   "metadata": {},
   "source": [
    "### Looking more closely at the type of products sold"
   ]
  },
  {
   "cell_type": "code",
   "execution_count": 44,
   "metadata": {},
   "outputs": [
    {
     "data": {
      "text/html": [
       "<div>\n",
       "<style scoped>\n",
       "    .dataframe tbody tr th:only-of-type {\n",
       "        vertical-align: middle;\n",
       "    }\n",
       "\n",
       "    .dataframe tbody tr th {\n",
       "        vertical-align: top;\n",
       "    }\n",
       "\n",
       "    .dataframe thead th {\n",
       "        text-align: right;\n",
       "    }\n",
       "</style>\n",
       "<table border=\"1\" class=\"dataframe\">\n",
       "  <thead>\n",
       "    <tr style=\"text-align: right;\">\n",
       "      <th></th>\n",
       "      <th>ProductId</th>\n",
       "      <th>orderID</th>\n",
       "      <th>Quantity</th>\n",
       "      <th>Discount</th>\n",
       "      <th>ProductName</th>\n",
       "      <th>QuantityPerUnit</th>\n",
       "      <th>CategoryId</th>\n",
       "      <th>CategoryName</th>\n",
       "      <th>Description</th>\n",
       "    </tr>\n",
       "  </thead>\n",
       "  <tbody>\n",
       "    <tr>\n",
       "      <th>0</th>\n",
       "      <td>11</td>\n",
       "      <td>10248/11</td>\n",
       "      <td>12</td>\n",
       "      <td>0.00</td>\n",
       "      <td>Queso Cabrales</td>\n",
       "      <td>1 kg pkg.</td>\n",
       "      <td>4</td>\n",
       "      <td>Dairy Products</td>\n",
       "      <td>Cheeses</td>\n",
       "    </tr>\n",
       "    <tr>\n",
       "      <th>1</th>\n",
       "      <td>42</td>\n",
       "      <td>10248/42</td>\n",
       "      <td>10</td>\n",
       "      <td>0.00</td>\n",
       "      <td>Singaporean Hokkien Fried Mee</td>\n",
       "      <td>32 - 1 kg pkgs.</td>\n",
       "      <td>5</td>\n",
       "      <td>Grains/Cereals</td>\n",
       "      <td>Breads, crackers, pasta, and cereal</td>\n",
       "    </tr>\n",
       "    <tr>\n",
       "      <th>2</th>\n",
       "      <td>72</td>\n",
       "      <td>10248/72</td>\n",
       "      <td>5</td>\n",
       "      <td>0.00</td>\n",
       "      <td>Mozzarella di Giovanni</td>\n",
       "      <td>24 - 200 g pkgs.</td>\n",
       "      <td>4</td>\n",
       "      <td>Dairy Products</td>\n",
       "      <td>Cheeses</td>\n",
       "    </tr>\n",
       "    <tr>\n",
       "      <th>3</th>\n",
       "      <td>14</td>\n",
       "      <td>10249/14</td>\n",
       "      <td>9</td>\n",
       "      <td>0.00</td>\n",
       "      <td>Tofu</td>\n",
       "      <td>40 - 100 g pkgs.</td>\n",
       "      <td>7</td>\n",
       "      <td>Produce</td>\n",
       "      <td>Dried fruit and bean curd</td>\n",
       "    </tr>\n",
       "    <tr>\n",
       "      <th>4</th>\n",
       "      <td>51</td>\n",
       "      <td>10249/51</td>\n",
       "      <td>40</td>\n",
       "      <td>0.00</td>\n",
       "      <td>Manjimup Dried Apples</td>\n",
       "      <td>50 - 300 g pkgs.</td>\n",
       "      <td>7</td>\n",
       "      <td>Produce</td>\n",
       "      <td>Dried fruit and bean curd</td>\n",
       "    </tr>\n",
       "    <tr>\n",
       "      <th>5</th>\n",
       "      <td>41</td>\n",
       "      <td>10250/41</td>\n",
       "      <td>10</td>\n",
       "      <td>0.00</td>\n",
       "      <td>Jack's New England Clam Chowder</td>\n",
       "      <td>12 - 12 oz cans</td>\n",
       "      <td>8</td>\n",
       "      <td>Seafood</td>\n",
       "      <td>Seaweed and fish</td>\n",
       "    </tr>\n",
       "    <tr>\n",
       "      <th>6</th>\n",
       "      <td>51</td>\n",
       "      <td>10250/51</td>\n",
       "      <td>35</td>\n",
       "      <td>0.15</td>\n",
       "      <td>Manjimup Dried Apples</td>\n",
       "      <td>50 - 300 g pkgs.</td>\n",
       "      <td>7</td>\n",
       "      <td>Produce</td>\n",
       "      <td>Dried fruit and bean curd</td>\n",
       "    </tr>\n",
       "    <tr>\n",
       "      <th>7</th>\n",
       "      <td>65</td>\n",
       "      <td>10250/65</td>\n",
       "      <td>15</td>\n",
       "      <td>0.15</td>\n",
       "      <td>Louisiana Fiery Hot Pepper Sauce</td>\n",
       "      <td>32 - 8 oz bottles</td>\n",
       "      <td>2</td>\n",
       "      <td>Condiments</td>\n",
       "      <td>Sweet and savory sauces, relishes, spreads, an...</td>\n",
       "    </tr>\n",
       "    <tr>\n",
       "      <th>8</th>\n",
       "      <td>22</td>\n",
       "      <td>10251/22</td>\n",
       "      <td>6</td>\n",
       "      <td>0.05</td>\n",
       "      <td>Gustaf's Knäckebröd</td>\n",
       "      <td>24 - 500 g pkgs.</td>\n",
       "      <td>5</td>\n",
       "      <td>Grains/Cereals</td>\n",
       "      <td>Breads, crackers, pasta, and cereal</td>\n",
       "    </tr>\n",
       "    <tr>\n",
       "      <th>9</th>\n",
       "      <td>57</td>\n",
       "      <td>10251/57</td>\n",
       "      <td>15</td>\n",
       "      <td>0.05</td>\n",
       "      <td>Ravioli Angelo</td>\n",
       "      <td>24 - 250 g pkgs.</td>\n",
       "      <td>5</td>\n",
       "      <td>Grains/Cereals</td>\n",
       "      <td>Breads, crackers, pasta, and cereal</td>\n",
       "    </tr>\n",
       "    <tr>\n",
       "      <th>10</th>\n",
       "      <td>65</td>\n",
       "      <td>10251/65</td>\n",
       "      <td>20</td>\n",
       "      <td>0.00</td>\n",
       "      <td>Louisiana Fiery Hot Pepper Sauce</td>\n",
       "      <td>32 - 8 oz bottles</td>\n",
       "      <td>2</td>\n",
       "      <td>Condiments</td>\n",
       "      <td>Sweet and savory sauces, relishes, spreads, an...</td>\n",
       "    </tr>\n",
       "    <tr>\n",
       "      <th>11</th>\n",
       "      <td>20</td>\n",
       "      <td>10252/20</td>\n",
       "      <td>40</td>\n",
       "      <td>0.05</td>\n",
       "      <td>Sir Rodney's Marmalade</td>\n",
       "      <td>30 gift boxes</td>\n",
       "      <td>3</td>\n",
       "      <td>Confections</td>\n",
       "      <td>Desserts, candies, and sweet breads</td>\n",
       "    </tr>\n",
       "    <tr>\n",
       "      <th>12</th>\n",
       "      <td>33</td>\n",
       "      <td>10252/33</td>\n",
       "      <td>25</td>\n",
       "      <td>0.05</td>\n",
       "      <td>Geitost</td>\n",
       "      <td>500 g</td>\n",
       "      <td>4</td>\n",
       "      <td>Dairy Products</td>\n",
       "      <td>Cheeses</td>\n",
       "    </tr>\n",
       "    <tr>\n",
       "      <th>13</th>\n",
       "      <td>60</td>\n",
       "      <td>10252/60</td>\n",
       "      <td>40</td>\n",
       "      <td>0.00</td>\n",
       "      <td>Camembert Pierrot</td>\n",
       "      <td>15 - 300 g rounds</td>\n",
       "      <td>4</td>\n",
       "      <td>Dairy Products</td>\n",
       "      <td>Cheeses</td>\n",
       "    </tr>\n",
       "    <tr>\n",
       "      <th>14</th>\n",
       "      <td>31</td>\n",
       "      <td>10253/31</td>\n",
       "      <td>20</td>\n",
       "      <td>0.00</td>\n",
       "      <td>Gorgonzola Telino</td>\n",
       "      <td>12 - 100 g pkgs</td>\n",
       "      <td>4</td>\n",
       "      <td>Dairy Products</td>\n",
       "      <td>Cheeses</td>\n",
       "    </tr>\n",
       "    <tr>\n",
       "      <th>15</th>\n",
       "      <td>39</td>\n",
       "      <td>10253/39</td>\n",
       "      <td>42</td>\n",
       "      <td>0.00</td>\n",
       "      <td>Chartreuse verte</td>\n",
       "      <td>750 cc per bottle</td>\n",
       "      <td>1</td>\n",
       "      <td>Beverages</td>\n",
       "      <td>Soft drinks, coffees, teas, beers, and ales</td>\n",
       "    </tr>\n",
       "    <tr>\n",
       "      <th>16</th>\n",
       "      <td>49</td>\n",
       "      <td>10253/49</td>\n",
       "      <td>40</td>\n",
       "      <td>0.00</td>\n",
       "      <td>Maxilaku</td>\n",
       "      <td>24 - 50 g pkgs.</td>\n",
       "      <td>3</td>\n",
       "      <td>Confections</td>\n",
       "      <td>Desserts, candies, and sweet breads</td>\n",
       "    </tr>\n",
       "    <tr>\n",
       "      <th>17</th>\n",
       "      <td>24</td>\n",
       "      <td>10254/24</td>\n",
       "      <td>15</td>\n",
       "      <td>0.15</td>\n",
       "      <td>Guaraná Fantástica</td>\n",
       "      <td>12 - 355 ml cans</td>\n",
       "      <td>1</td>\n",
       "      <td>Beverages</td>\n",
       "      <td>Soft drinks, coffees, teas, beers, and ales</td>\n",
       "    </tr>\n",
       "    <tr>\n",
       "      <th>18</th>\n",
       "      <td>55</td>\n",
       "      <td>10254/55</td>\n",
       "      <td>21</td>\n",
       "      <td>0.15</td>\n",
       "      <td>Pâté chinois</td>\n",
       "      <td>24 boxes x 2 pies</td>\n",
       "      <td>6</td>\n",
       "      <td>Meat/Poultry</td>\n",
       "      <td>Prepared meats</td>\n",
       "    </tr>\n",
       "    <tr>\n",
       "      <th>19</th>\n",
       "      <td>74</td>\n",
       "      <td>10254/74</td>\n",
       "      <td>21</td>\n",
       "      <td>0.00</td>\n",
       "      <td>Longlife Tofu</td>\n",
       "      <td>5 kg pkg.</td>\n",
       "      <td>7</td>\n",
       "      <td>Produce</td>\n",
       "      <td>Dried fruit and bean curd</td>\n",
       "    </tr>\n",
       "    <tr>\n",
       "      <th>20</th>\n",
       "      <td>2</td>\n",
       "      <td>10255/2</td>\n",
       "      <td>20</td>\n",
       "      <td>0.00</td>\n",
       "      <td>Chang</td>\n",
       "      <td>24 - 12 oz bottles</td>\n",
       "      <td>1</td>\n",
       "      <td>Beverages</td>\n",
       "      <td>Soft drinks, coffees, teas, beers, and ales</td>\n",
       "    </tr>\n",
       "    <tr>\n",
       "      <th>21</th>\n",
       "      <td>16</td>\n",
       "      <td>10255/16</td>\n",
       "      <td>35</td>\n",
       "      <td>0.00</td>\n",
       "      <td>Pavlova</td>\n",
       "      <td>32 - 500 g boxes</td>\n",
       "      <td>3</td>\n",
       "      <td>Confections</td>\n",
       "      <td>Desserts, candies, and sweet breads</td>\n",
       "    </tr>\n",
       "    <tr>\n",
       "      <th>22</th>\n",
       "      <td>36</td>\n",
       "      <td>10255/36</td>\n",
       "      <td>25</td>\n",
       "      <td>0.00</td>\n",
       "      <td>Inlagd Sill</td>\n",
       "      <td>24 - 250 g  jars</td>\n",
       "      <td>8</td>\n",
       "      <td>Seafood</td>\n",
       "      <td>Seaweed and fish</td>\n",
       "    </tr>\n",
       "    <tr>\n",
       "      <th>23</th>\n",
       "      <td>59</td>\n",
       "      <td>10255/59</td>\n",
       "      <td>30</td>\n",
       "      <td>0.00</td>\n",
       "      <td>Raclette Courdavault</td>\n",
       "      <td>5 kg pkg.</td>\n",
       "      <td>4</td>\n",
       "      <td>Dairy Products</td>\n",
       "      <td>Cheeses</td>\n",
       "    </tr>\n",
       "    <tr>\n",
       "      <th>24</th>\n",
       "      <td>53</td>\n",
       "      <td>10256/53</td>\n",
       "      <td>15</td>\n",
       "      <td>0.00</td>\n",
       "      <td>Perth Pasties</td>\n",
       "      <td>48 pieces</td>\n",
       "      <td>6</td>\n",
       "      <td>Meat/Poultry</td>\n",
       "      <td>Prepared meats</td>\n",
       "    </tr>\n",
       "    <tr>\n",
       "      <th>25</th>\n",
       "      <td>77</td>\n",
       "      <td>10256/77</td>\n",
       "      <td>12</td>\n",
       "      <td>0.00</td>\n",
       "      <td>Original Frankfurter grüne Soße</td>\n",
       "      <td>12 boxes</td>\n",
       "      <td>2</td>\n",
       "      <td>Condiments</td>\n",
       "      <td>Sweet and savory sauces, relishes, spreads, an...</td>\n",
       "    </tr>\n",
       "    <tr>\n",
       "      <th>26</th>\n",
       "      <td>27</td>\n",
       "      <td>10257/27</td>\n",
       "      <td>25</td>\n",
       "      <td>0.00</td>\n",
       "      <td>Schoggi Schokolade</td>\n",
       "      <td>100 - 100 g pieces</td>\n",
       "      <td>3</td>\n",
       "      <td>Confections</td>\n",
       "      <td>Desserts, candies, and sweet breads</td>\n",
       "    </tr>\n",
       "    <tr>\n",
       "      <th>27</th>\n",
       "      <td>39</td>\n",
       "      <td>10257/39</td>\n",
       "      <td>6</td>\n",
       "      <td>0.00</td>\n",
       "      <td>Chartreuse verte</td>\n",
       "      <td>750 cc per bottle</td>\n",
       "      <td>1</td>\n",
       "      <td>Beverages</td>\n",
       "      <td>Soft drinks, coffees, teas, beers, and ales</td>\n",
       "    </tr>\n",
       "    <tr>\n",
       "      <th>28</th>\n",
       "      <td>77</td>\n",
       "      <td>10257/77</td>\n",
       "      <td>15</td>\n",
       "      <td>0.00</td>\n",
       "      <td>Original Frankfurter grüne Soße</td>\n",
       "      <td>12 boxes</td>\n",
       "      <td>2</td>\n",
       "      <td>Condiments</td>\n",
       "      <td>Sweet and savory sauces, relishes, spreads, an...</td>\n",
       "    </tr>\n",
       "    <tr>\n",
       "      <th>29</th>\n",
       "      <td>2</td>\n",
       "      <td>10258/2</td>\n",
       "      <td>50</td>\n",
       "      <td>0.20</td>\n",
       "      <td>Chang</td>\n",
       "      <td>24 - 12 oz bottles</td>\n",
       "      <td>1</td>\n",
       "      <td>Beverages</td>\n",
       "      <td>Soft drinks, coffees, teas, beers, and ales</td>\n",
       "    </tr>\n",
       "  </tbody>\n",
       "</table>\n",
       "</div>"
      ],
      "text/plain": [
       "    ProductId   orderID  Quantity  Discount                       ProductName  \\\n",
       "0          11  10248/11        12      0.00                    Queso Cabrales   \n",
       "1          42  10248/42        10      0.00     Singaporean Hokkien Fried Mee   \n",
       "2          72  10248/72         5      0.00            Mozzarella di Giovanni   \n",
       "3          14  10249/14         9      0.00                              Tofu   \n",
       "4          51  10249/51        40      0.00             Manjimup Dried Apples   \n",
       "5          41  10250/41        10      0.00   Jack's New England Clam Chowder   \n",
       "6          51  10250/51        35      0.15             Manjimup Dried Apples   \n",
       "7          65  10250/65        15      0.15  Louisiana Fiery Hot Pepper Sauce   \n",
       "8          22  10251/22         6      0.05               Gustaf's Knäckebröd   \n",
       "9          57  10251/57        15      0.05                    Ravioli Angelo   \n",
       "10         65  10251/65        20      0.00  Louisiana Fiery Hot Pepper Sauce   \n",
       "11         20  10252/20        40      0.05            Sir Rodney's Marmalade   \n",
       "12         33  10252/33        25      0.05                           Geitost   \n",
       "13         60  10252/60        40      0.00                 Camembert Pierrot   \n",
       "14         31  10253/31        20      0.00                 Gorgonzola Telino   \n",
       "15         39  10253/39        42      0.00                  Chartreuse verte   \n",
       "16         49  10253/49        40      0.00                          Maxilaku   \n",
       "17         24  10254/24        15      0.15                Guaraná Fantástica   \n",
       "18         55  10254/55        21      0.15                      Pâté chinois   \n",
       "19         74  10254/74        21      0.00                     Longlife Tofu   \n",
       "20          2   10255/2        20      0.00                             Chang   \n",
       "21         16  10255/16        35      0.00                           Pavlova   \n",
       "22         36  10255/36        25      0.00                       Inlagd Sill   \n",
       "23         59  10255/59        30      0.00              Raclette Courdavault   \n",
       "24         53  10256/53        15      0.00                     Perth Pasties   \n",
       "25         77  10256/77        12      0.00   Original Frankfurter grüne Soße   \n",
       "26         27  10257/27        25      0.00                Schoggi Schokolade   \n",
       "27         39  10257/39         6      0.00                  Chartreuse verte   \n",
       "28         77  10257/77        15      0.00   Original Frankfurter grüne Soße   \n",
       "29          2   10258/2        50      0.20                             Chang   \n",
       "\n",
       "       QuantityPerUnit  CategoryId    CategoryName  \\\n",
       "0            1 kg pkg.           4  Dairy Products   \n",
       "1      32 - 1 kg pkgs.           5  Grains/Cereals   \n",
       "2     24 - 200 g pkgs.           4  Dairy Products   \n",
       "3     40 - 100 g pkgs.           7         Produce   \n",
       "4     50 - 300 g pkgs.           7         Produce   \n",
       "5      12 - 12 oz cans           8         Seafood   \n",
       "6     50 - 300 g pkgs.           7         Produce   \n",
       "7    32 - 8 oz bottles           2      Condiments   \n",
       "8     24 - 500 g pkgs.           5  Grains/Cereals   \n",
       "9     24 - 250 g pkgs.           5  Grains/Cereals   \n",
       "10   32 - 8 oz bottles           2      Condiments   \n",
       "11       30 gift boxes           3     Confections   \n",
       "12               500 g           4  Dairy Products   \n",
       "13   15 - 300 g rounds           4  Dairy Products   \n",
       "14     12 - 100 g pkgs           4  Dairy Products   \n",
       "15   750 cc per bottle           1       Beverages   \n",
       "16     24 - 50 g pkgs.           3     Confections   \n",
       "17    12 - 355 ml cans           1       Beverages   \n",
       "18   24 boxes x 2 pies           6    Meat/Poultry   \n",
       "19           5 kg pkg.           7         Produce   \n",
       "20  24 - 12 oz bottles           1       Beverages   \n",
       "21    32 - 500 g boxes           3     Confections   \n",
       "22    24 - 250 g  jars           8         Seafood   \n",
       "23           5 kg pkg.           4  Dairy Products   \n",
       "24           48 pieces           6    Meat/Poultry   \n",
       "25            12 boxes           2      Condiments   \n",
       "26  100 - 100 g pieces           3     Confections   \n",
       "27   750 cc per bottle           1       Beverages   \n",
       "28            12 boxes           2      Condiments   \n",
       "29  24 - 12 oz bottles           1       Beverages   \n",
       "\n",
       "                                          Description  \n",
       "0                                             Cheeses  \n",
       "1                 Breads, crackers, pasta, and cereal  \n",
       "2                                             Cheeses  \n",
       "3                           Dried fruit and bean curd  \n",
       "4                           Dried fruit and bean curd  \n",
       "5                                    Seaweed and fish  \n",
       "6                           Dried fruit and bean curd  \n",
       "7   Sweet and savory sauces, relishes, spreads, an...  \n",
       "8                 Breads, crackers, pasta, and cereal  \n",
       "9                 Breads, crackers, pasta, and cereal  \n",
       "10  Sweet and savory sauces, relishes, spreads, an...  \n",
       "11                Desserts, candies, and sweet breads  \n",
       "12                                            Cheeses  \n",
       "13                                            Cheeses  \n",
       "14                                            Cheeses  \n",
       "15        Soft drinks, coffees, teas, beers, and ales  \n",
       "16                Desserts, candies, and sweet breads  \n",
       "17        Soft drinks, coffees, teas, beers, and ales  \n",
       "18                                     Prepared meats  \n",
       "19                          Dried fruit and bean curd  \n",
       "20        Soft drinks, coffees, teas, beers, and ales  \n",
       "21                Desserts, candies, and sweet breads  \n",
       "22                                   Seaweed and fish  \n",
       "23                                            Cheeses  \n",
       "24                                     Prepared meats  \n",
       "25  Sweet and savory sauces, relishes, spreads, an...  \n",
       "26                Desserts, candies, and sweet breads  \n",
       "27        Soft drinks, coffees, teas, beers, and ales  \n",
       "28  Sweet and savory sauces, relishes, spreads, an...  \n",
       "29        Soft drinks, coffees, teas, beers, and ales  "
      ]
     },
     "execution_count": 44,
     "metadata": {},
     "output_type": "execute_result"
    }
   ],
   "source": [
    "query = \"\"\"SELECT o.ProductId, o.Id as orderID, o.Quantity, o.Discount, ProductName, QuantityPerUnit, p.CategoryID, CategoryName, Description\n",
    "            FROM 'Product' p \n",
    "            INNER JOIN 'Category' c\n",
    "            ON p.CategoryID = c.Id\n",
    "             INNER JOIN 'OrderDetail' o\n",
    "            ON p.Id = o.ProductId;\"\"\"\n",
    "\n",
    "cur.execute(query)\n",
    "df_product_detail = pd.DataFrame(cur.fetchall())\n",
    "df_product_detail.columns = [x[0] for x in cur.description]\n",
    "df_product_detail.head(30)"
   ]
  },
  {
   "cell_type": "code",
   "execution_count": 46,
   "metadata": {},
   "outputs": [
    {
     "data": {
      "text/plain": [
       "Beverages         404\n",
       "Dairy Products    366\n",
       "Confections       334\n",
       "Seafood           330\n",
       "Condiments        216\n",
       "Grains/Cereals    196\n",
       "Meat/Poultry      173\n",
       "Produce           136\n",
       "Name: CategoryName, dtype: int64"
      ]
     },
     "execution_count": 46,
     "metadata": {},
     "output_type": "execute_result"
    }
   ],
   "source": [
    "df_product_detail.CategoryName.value_counts()"
   ]
  },
  {
   "cell_type": "markdown",
   "metadata": {},
   "source": [
    "Taking a look at the names, we can see that these are all consumables. Whether it is a perishable item is likely a factor. A customer would not want to buy a lot of fresh lettuce despite a large discount in case it rots before completely used. Categorizing items by perishable/non-perishable or long vs. short term perishable and other broader categories might provide more insight and be a significant factor in predicting order quantity."
   ]
  },
  {
   "cell_type": "code",
   "execution_count": 49,
   "metadata": {},
   "outputs": [],
   "source": [
    "df_product_detail_nodiscount = df_product_detail[df_product_detail.Discount == 0]\n",
    "df_product_detail_discount = df_product_detail[df_product_detail.Discount != 0]"
   ]
  },
  {
   "cell_type": "code",
   "execution_count": 87,
   "metadata": {},
   "outputs": [
    {
     "data": {
      "text/html": [
       "<div>\n",
       "<style scoped>\n",
       "    .dataframe tbody tr th:only-of-type {\n",
       "        vertical-align: middle;\n",
       "    }\n",
       "\n",
       "    .dataframe tbody tr th {\n",
       "        vertical-align: top;\n",
       "    }\n",
       "\n",
       "    .dataframe thead tr th {\n",
       "        text-align: left;\n",
       "    }\n",
       "</style>\n",
       "<table border=\"1\" class=\"dataframe\">\n",
       "  <thead>\n",
       "    <tr>\n",
       "      <th></th>\n",
       "      <th>CategoryName</th>\n",
       "      <th>Discount</th>\n",
       "      <th>Quantity</th>\n",
       "    </tr>\n",
       "    <tr>\n",
       "      <th></th>\n",
       "      <th></th>\n",
       "      <th></th>\n",
       "      <th>mean</th>\n",
       "    </tr>\n",
       "  </thead>\n",
       "  <tbody>\n",
       "    <tr>\n",
       "      <th>0</th>\n",
       "      <td>Beverages</td>\n",
       "      <td>0.00</td>\n",
       "      <td>20.796748</td>\n",
       "    </tr>\n",
       "    <tr>\n",
       "      <th>1</th>\n",
       "      <td>Beverages</td>\n",
       "      <td>0.05</td>\n",
       "      <td>34.538462</td>\n",
       "    </tr>\n",
       "    <tr>\n",
       "      <th>2</th>\n",
       "      <td>Beverages</td>\n",
       "      <td>0.10</td>\n",
       "      <td>29.120000</td>\n",
       "    </tr>\n",
       "    <tr>\n",
       "      <th>3</th>\n",
       "      <td>Beverages</td>\n",
       "      <td>0.15</td>\n",
       "      <td>24.583333</td>\n",
       "    </tr>\n",
       "    <tr>\n",
       "      <th>4</th>\n",
       "      <td>Beverages</td>\n",
       "      <td>0.20</td>\n",
       "      <td>29.230769</td>\n",
       "    </tr>\n",
       "    <tr>\n",
       "      <th>5</th>\n",
       "      <td>Beverages</td>\n",
       "      <td>0.25</td>\n",
       "      <td>23.906250</td>\n",
       "    </tr>\n",
       "    <tr>\n",
       "      <th>6</th>\n",
       "      <td>Condiments</td>\n",
       "      <td>0.00</td>\n",
       "      <td>21.320611</td>\n",
       "    </tr>\n",
       "    <tr>\n",
       "      <th>7</th>\n",
       "      <td>Condiments</td>\n",
       "      <td>0.02</td>\n",
       "      <td>1.000000</td>\n",
       "    </tr>\n",
       "    <tr>\n",
       "      <th>8</th>\n",
       "      <td>Condiments</td>\n",
       "      <td>0.05</td>\n",
       "      <td>37.842105</td>\n",
       "    </tr>\n",
       "    <tr>\n",
       "      <th>9</th>\n",
       "      <td>Condiments</td>\n",
       "      <td>0.10</td>\n",
       "      <td>23.304348</td>\n",
       "    </tr>\n",
       "    <tr>\n",
       "      <th>10</th>\n",
       "      <td>Condiments</td>\n",
       "      <td>0.15</td>\n",
       "      <td>30.529412</td>\n",
       "    </tr>\n",
       "    <tr>\n",
       "      <th>11</th>\n",
       "      <td>Condiments</td>\n",
       "      <td>0.20</td>\n",
       "      <td>22.285714</td>\n",
       "    </tr>\n",
       "    <tr>\n",
       "      <th>12</th>\n",
       "      <td>Condiments</td>\n",
       "      <td>0.25</td>\n",
       "      <td>38.000000</td>\n",
       "    </tr>\n",
       "    <tr>\n",
       "      <th>13</th>\n",
       "      <td>Confections</td>\n",
       "      <td>0.00</td>\n",
       "      <td>23.090000</td>\n",
       "    </tr>\n",
       "    <tr>\n",
       "      <th>14</th>\n",
       "      <td>Confections</td>\n",
       "      <td>0.03</td>\n",
       "      <td>2.000000</td>\n",
       "    </tr>\n",
       "    <tr>\n",
       "      <th>15</th>\n",
       "      <td>Confections</td>\n",
       "      <td>0.04</td>\n",
       "      <td>1.000000</td>\n",
       "    </tr>\n",
       "    <tr>\n",
       "      <th>16</th>\n",
       "      <td>Confections</td>\n",
       "      <td>0.05</td>\n",
       "      <td>27.413793</td>\n",
       "    </tr>\n",
       "    <tr>\n",
       "      <th>17</th>\n",
       "      <td>Confections</td>\n",
       "      <td>0.10</td>\n",
       "      <td>18.166667</td>\n",
       "    </tr>\n",
       "    <tr>\n",
       "      <th>18</th>\n",
       "      <td>Confections</td>\n",
       "      <td>0.15</td>\n",
       "      <td>28.206897</td>\n",
       "    </tr>\n",
       "    <tr>\n",
       "      <th>19</th>\n",
       "      <td>Confections</td>\n",
       "      <td>0.20</td>\n",
       "      <td>19.882353</td>\n",
       "    </tr>\n",
       "    <tr>\n",
       "      <th>20</th>\n",
       "      <td>Confections</td>\n",
       "      <td>0.25</td>\n",
       "      <td>29.222222</td>\n",
       "    </tr>\n",
       "    <tr>\n",
       "      <th>21</th>\n",
       "      <td>Dairy Products</td>\n",
       "      <td>0.00</td>\n",
       "      <td>22.165179</td>\n",
       "    </tr>\n",
       "    <tr>\n",
       "      <th>22</th>\n",
       "      <td>Dairy Products</td>\n",
       "      <td>0.05</td>\n",
       "      <td>28.950000</td>\n",
       "    </tr>\n",
       "    <tr>\n",
       "      <th>23</th>\n",
       "      <td>Dairy Products</td>\n",
       "      <td>0.06</td>\n",
       "      <td>2.000000</td>\n",
       "    </tr>\n",
       "    <tr>\n",
       "      <th>24</th>\n",
       "      <td>Dairy Products</td>\n",
       "      <td>0.10</td>\n",
       "      <td>25.960000</td>\n",
       "    </tr>\n",
       "    <tr>\n",
       "      <th>25</th>\n",
       "      <td>Dairy Products</td>\n",
       "      <td>0.15</td>\n",
       "      <td>28.653846</td>\n",
       "    </tr>\n",
       "    <tr>\n",
       "      <th>26</th>\n",
       "      <td>Dairy Products</td>\n",
       "      <td>0.20</td>\n",
       "      <td>31.714286</td>\n",
       "    </tr>\n",
       "    <tr>\n",
       "      <th>27</th>\n",
       "      <td>Dairy Products</td>\n",
       "      <td>0.25</td>\n",
       "      <td>33.727273</td>\n",
       "    </tr>\n",
       "    <tr>\n",
       "      <th>28</th>\n",
       "      <td>Grains/Cereals</td>\n",
       "      <td>0.00</td>\n",
       "      <td>22.744361</td>\n",
       "    </tr>\n",
       "    <tr>\n",
       "      <th>29</th>\n",
       "      <td>Grains/Cereals</td>\n",
       "      <td>0.03</td>\n",
       "      <td>2.000000</td>\n",
       "    </tr>\n",
       "    <tr>\n",
       "      <th>30</th>\n",
       "      <td>Grains/Cereals</td>\n",
       "      <td>0.05</td>\n",
       "      <td>21.529412</td>\n",
       "    </tr>\n",
       "    <tr>\n",
       "      <th>31</th>\n",
       "      <td>Grains/Cereals</td>\n",
       "      <td>0.10</td>\n",
       "      <td>30.500000</td>\n",
       "    </tr>\n",
       "    <tr>\n",
       "      <th>32</th>\n",
       "      <td>Grains/Cereals</td>\n",
       "      <td>0.15</td>\n",
       "      <td>23.200000</td>\n",
       "    </tr>\n",
       "    <tr>\n",
       "      <th>33</th>\n",
       "      <td>Grains/Cereals</td>\n",
       "      <td>0.20</td>\n",
       "      <td>27.600000</td>\n",
       "    </tr>\n",
       "    <tr>\n",
       "      <th>34</th>\n",
       "      <td>Grains/Cereals</td>\n",
       "      <td>0.25</td>\n",
       "      <td>21.800000</td>\n",
       "    </tr>\n",
       "    <tr>\n",
       "      <th>35</th>\n",
       "      <td>Meat/Poultry</td>\n",
       "      <td>0.00</td>\n",
       "      <td>20.721649</td>\n",
       "    </tr>\n",
       "    <tr>\n",
       "      <th>36</th>\n",
       "      <td>Meat/Poultry</td>\n",
       "      <td>0.05</td>\n",
       "      <td>17.823529</td>\n",
       "    </tr>\n",
       "    <tr>\n",
       "      <th>37</th>\n",
       "      <td>Meat/Poultry</td>\n",
       "      <td>0.10</td>\n",
       "      <td>35.200000</td>\n",
       "    </tr>\n",
       "    <tr>\n",
       "      <th>38</th>\n",
       "      <td>Meat/Poultry</td>\n",
       "      <td>0.15</td>\n",
       "      <td>31.444444</td>\n",
       "    </tr>\n",
       "    <tr>\n",
       "      <th>39</th>\n",
       "      <td>Meat/Poultry</td>\n",
       "      <td>0.20</td>\n",
       "      <td>21.000000</td>\n",
       "    </tr>\n",
       "    <tr>\n",
       "      <th>40</th>\n",
       "      <td>Meat/Poultry</td>\n",
       "      <td>0.25</td>\n",
       "      <td>35.157895</td>\n",
       "    </tr>\n",
       "    <tr>\n",
       "      <th>41</th>\n",
       "      <td>Produce</td>\n",
       "      <td>0.00</td>\n",
       "      <td>20.956044</td>\n",
       "    </tr>\n",
       "    <tr>\n",
       "      <th>42</th>\n",
       "      <td>Produce</td>\n",
       "      <td>0.03</td>\n",
       "      <td>1.000000</td>\n",
       "    </tr>\n",
       "    <tr>\n",
       "      <th>43</th>\n",
       "      <td>Produce</td>\n",
       "      <td>0.05</td>\n",
       "      <td>30.000000</td>\n",
       "    </tr>\n",
       "    <tr>\n",
       "      <th>44</th>\n",
       "      <td>Produce</td>\n",
       "      <td>0.10</td>\n",
       "      <td>22.222222</td>\n",
       "    </tr>\n",
       "    <tr>\n",
       "      <th>45</th>\n",
       "      <td>Produce</td>\n",
       "      <td>0.15</td>\n",
       "      <td>21.800000</td>\n",
       "    </tr>\n",
       "    <tr>\n",
       "      <th>46</th>\n",
       "      <td>Produce</td>\n",
       "      <td>0.20</td>\n",
       "      <td>21.333333</td>\n",
       "    </tr>\n",
       "    <tr>\n",
       "      <th>47</th>\n",
       "      <td>Produce</td>\n",
       "      <td>0.25</td>\n",
       "      <td>25.750000</td>\n",
       "    </tr>\n",
       "    <tr>\n",
       "      <th>48</th>\n",
       "      <td>Seafood</td>\n",
       "      <td>0.00</td>\n",
       "      <td>21.358974</td>\n",
       "    </tr>\n",
       "    <tr>\n",
       "      <th>49</th>\n",
       "      <td>Seafood</td>\n",
       "      <td>0.01</td>\n",
       "      <td>2.000000</td>\n",
       "    </tr>\n",
       "    <tr>\n",
       "      <th>50</th>\n",
       "      <td>Seafood</td>\n",
       "      <td>0.02</td>\n",
       "      <td>3.000000</td>\n",
       "    </tr>\n",
       "    <tr>\n",
       "      <th>51</th>\n",
       "      <td>Seafood</td>\n",
       "      <td>0.05</td>\n",
       "      <td>23.576923</td>\n",
       "    </tr>\n",
       "    <tr>\n",
       "      <th>52</th>\n",
       "      <td>Seafood</td>\n",
       "      <td>0.10</td>\n",
       "      <td>22.548387</td>\n",
       "    </tr>\n",
       "    <tr>\n",
       "      <th>53</th>\n",
       "      <td>Seafood</td>\n",
       "      <td>0.15</td>\n",
       "      <td>37.800000</td>\n",
       "    </tr>\n",
       "    <tr>\n",
       "      <th>54</th>\n",
       "      <td>Seafood</td>\n",
       "      <td>0.20</td>\n",
       "      <td>29.032258</td>\n",
       "    </tr>\n",
       "    <tr>\n",
       "      <th>55</th>\n",
       "      <td>Seafood</td>\n",
       "      <td>0.25</td>\n",
       "      <td>21.720000</td>\n",
       "    </tr>\n",
       "  </tbody>\n",
       "</table>\n",
       "</div>"
      ],
      "text/plain": [
       "      CategoryName Discount   Quantity\n",
       "                                  mean\n",
       "0        Beverages     0.00  20.796748\n",
       "1        Beverages     0.05  34.538462\n",
       "2        Beverages     0.10  29.120000\n",
       "3        Beverages     0.15  24.583333\n",
       "4        Beverages     0.20  29.230769\n",
       "5        Beverages     0.25  23.906250\n",
       "6       Condiments     0.00  21.320611\n",
       "7       Condiments     0.02   1.000000\n",
       "8       Condiments     0.05  37.842105\n",
       "9       Condiments     0.10  23.304348\n",
       "10      Condiments     0.15  30.529412\n",
       "11      Condiments     0.20  22.285714\n",
       "12      Condiments     0.25  38.000000\n",
       "13     Confections     0.00  23.090000\n",
       "14     Confections     0.03   2.000000\n",
       "15     Confections     0.04   1.000000\n",
       "16     Confections     0.05  27.413793\n",
       "17     Confections     0.10  18.166667\n",
       "18     Confections     0.15  28.206897\n",
       "19     Confections     0.20  19.882353\n",
       "20     Confections     0.25  29.222222\n",
       "21  Dairy Products     0.00  22.165179\n",
       "22  Dairy Products     0.05  28.950000\n",
       "23  Dairy Products     0.06   2.000000\n",
       "24  Dairy Products     0.10  25.960000\n",
       "25  Dairy Products     0.15  28.653846\n",
       "26  Dairy Products     0.20  31.714286\n",
       "27  Dairy Products     0.25  33.727273\n",
       "28  Grains/Cereals     0.00  22.744361\n",
       "29  Grains/Cereals     0.03   2.000000\n",
       "30  Grains/Cereals     0.05  21.529412\n",
       "31  Grains/Cereals     0.10  30.500000\n",
       "32  Grains/Cereals     0.15  23.200000\n",
       "33  Grains/Cereals     0.20  27.600000\n",
       "34  Grains/Cereals     0.25  21.800000\n",
       "35    Meat/Poultry     0.00  20.721649\n",
       "36    Meat/Poultry     0.05  17.823529\n",
       "37    Meat/Poultry     0.10  35.200000\n",
       "38    Meat/Poultry     0.15  31.444444\n",
       "39    Meat/Poultry     0.20  21.000000\n",
       "40    Meat/Poultry     0.25  35.157895\n",
       "41         Produce     0.00  20.956044\n",
       "42         Produce     0.03   1.000000\n",
       "43         Produce     0.05  30.000000\n",
       "44         Produce     0.10  22.222222\n",
       "45         Produce     0.15  21.800000\n",
       "46         Produce     0.20  21.333333\n",
       "47         Produce     0.25  25.750000\n",
       "48         Seafood     0.00  21.358974\n",
       "49         Seafood     0.01   2.000000\n",
       "50         Seafood     0.02   3.000000\n",
       "51         Seafood     0.05  23.576923\n",
       "52         Seafood     0.10  22.548387\n",
       "53         Seafood     0.15  37.800000\n",
       "54         Seafood     0.20  29.032258\n",
       "55         Seafood     0.25  21.720000"
      ]
     },
     "execution_count": 87,
     "metadata": {},
     "output_type": "execute_result"
    }
   ],
   "source": [
    "df_pdd_gb = df_product_detail.groupby([\"CategoryName\", \"Discount\"]).agg({'Quantity': ['mean']}).reset_index()\n",
    "df_pdd_gb_fullprice = df_pdd_gb[df_pdd_gb.Discount == 0]\n",
    "df_pdd_gb_discount = df_pdd_gb[df_pdd_gb.Discount != 0]\n",
    "df_pdd_gb"
   ]
  },
  {
   "cell_type": "code",
   "execution_count": 92,
   "metadata": {},
   "outputs": [],
   "source": [
    "df_pdd_gb.columns = df_pdd_gb.columns.get_level_values(0)"
   ]
  },
  {
   "cell_type": "code",
   "execution_count": 94,
   "metadata": {},
   "outputs": [
    {
     "data": {
      "text/plain": [
       "0     20.796748\n",
       "6     21.320611\n",
       "13    23.090000\n",
       "21    22.165179\n",
       "28    22.744361\n",
       "35    20.721649\n",
       "41    20.956044\n",
       "48    21.358974\n",
       "Name: Quantity, dtype: float64"
      ]
     },
     "execution_count": 94,
     "metadata": {},
     "output_type": "execute_result"
    }
   ],
   "source": [
    "df_pdd_gb[df_pdd_gb.Discount == 0].Quantity"
   ]
  },
  {
   "cell_type": "code",
   "execution_count": 126,
   "metadata": {},
   "outputs": [
    {
     "data": {
      "image/png": "[encoded data removed]",
      "text/plain": [
       "<Figure size 432x288 with 1 Axes>"
      ]
     },
     "metadata": {
      "needs_background": "light"
     },
     "output_type": "display_data"
    }
   ],
   "source": [
    "labels = list(df_pdd_gb.CategoryName.unique())\n",
    "x = np.arange((len(labels)))\n",
    "width = 0.35\n",
    "fig, ax = plt.subplots()\n",
    "fullprice = ax.bar(x - width/2, df_pdd_gb[df_pdd_gb.Discount == 0].Quantity, width, label='fullprice')\n",
    "discount = ax.bar(x + width/2, df_pdd_gb[df_pdd_gb.Discount == 0.05].Quantity, width, label='discount')\n",
    "ax.set_ylabel('Average Quantity Ordered')\n",
    "ax.set_title('Quantity ordered by Category & Discount')\n",
    "ax.set_xticks(x)\n",
    "ax.set_xticklabels(labels, rotation=90)\n",
    "plt.legend()\n",
    "plt.show();"
   ]
  },
  {
   "cell_type": "markdown",
   "metadata": {},
   "source": [
    "Overall, discounted items do have more quantity per order, with the exception of Grains/Cereals & Meat & Poultry."
   ]
  },
  {
   "cell_type": "code",
   "execution_count": 124,
   "metadata": {},
   "outputs": [
    {
     "data": {
      "image/png": "[encoded data removed]",
      "text/plain": [
       "<Figure size 1440x576 with 1 Axes>"
      ]
     },
     "metadata": {
      "needs_background": "light"
     },
     "output_type": "display_data"
    }
   ],
   "source": [
    "labels = list(df_pdd_gb.CategoryName.unique())\n",
    "x = np.arange((len(labels)))\n",
    "width = 1\n",
    "fig, ax = plt.subplots(figsize=(20,8))\n",
    "fullprice = ax.bar(x - width/8, df_pdd_gb[df_pdd_gb.Discount == 0].Quantity, width/8, label='fullprice')\n",
    "discount_5 = ax.bar(x, df_pdd_gb[df_pdd_gb.Discount == 0.05].Quantity, width/8, label='5%')\n",
    "discount_10 = ax.bar(x + (width/8), df_pdd_gb[df_pdd_gb.Discount == 0.1].Quantity, width/8, label='10%')\n",
    "discount_15 = ax.bar(x + (width*2/8), df_pdd_gb[df_pdd_gb.Discount == 0.15].Quantity, width/8, label='15%')\n",
    "discount_20 = ax.bar(x + (width*3/8), df_pdd_gb[df_pdd_gb.Discount == 0.2].Quantity, width/8, label='20%')\n",
    "discount_25 = ax.bar(x + (width*4/8), df_pdd_gb[df_pdd_gb.Discount == 0.25].Quantity, width/8, label='25%')\n",
    "ax.set_ylabel('Average Quantity Ordered')\n",
    "ax.set_title('Quantity ordered by Category & Discount')\n",
    "ax.set_xticks(x)\n",
    "ax.set_xticklabels(labels, rotation=45)\n",
    "plt.legend()\n",
    "plt.show();"
   ]
  },
  {
   "cell_type": "markdown",
   "metadata": {},
   "source": [
    "Taking a closer look Grains & Cereals do actually have some discount levels that are more than the full price (10% & 20 for grains/cereals and 10,15, and 20 for Meat & Poultry). So it does seem that the interaction between category & discount levels are significant."
   ]
  },
  {
   "cell_type": "markdown",
   "metadata": {},
   "source": [
    "### Hypothesis 5 - Interaction between Category ID and Discount"
   ]
  },
  {
   "cell_type": "code",
   "execution_count": 45,
   "metadata": {},
   "outputs": [
    {
     "name": "stdout",
     "output_type": "stream",
     "text": [
      "                                  sum_sq      df          F    PR(>F)\n",
      "C(CategoryId)                2624.635863     7.0   1.069371  0.380554\n",
      "C(Discount)                -44739.703475    10.0 -12.759993  1.000000\n",
      "C(CategoryId):C(Discount)   39482.308867    70.0   1.608651  0.007618\n",
      "Residual                   735961.498908  2099.0        NaN       NaN\n"
     ]
    }
   ],
   "source": [
    "formula = 'Quantity ~ C(CategoryId) *  C(Discount)'\n",
    "lm = ols(formula,df_product_detail).fit() \n",
    "table = sm.stats.anova_lm(lm, typ=2)\n",
    "print(table)"
   ]
  },
  {
   "cell_type": "markdown",
   "metadata": {},
   "source": [
    "The interaction between CategoryID and Discount is significant, if we consider a significance level of p<0.05. It makes sense that some perishable categories would have more or less ordered (such as produce)."
   ]
  },
  {
   "cell_type": "markdown",
   "metadata": {},
   "source": [
    "## Next Steps\n",
    "\n",
    "Other factors we might investigate are unit quantity as a possible factor. Each item has a vastly different unit size, with some containing multiple boxes, or boxes of cans. If one unit has a lot of the item, a customer might by fewer at one time regardless of a discount. In order to use quantity per item as a factor in predicting quantity ordered we would have to do some natural language processing to create a standard digit~units format. \n",
    "\n",
    "Another problem is that not all items need a lot of volume to last a while. For exmaples, a few boxes of pepper will last a while and won't buy a lot of units despite a discount. Other items are used in larger quantities, such as clam chowder or sodas, and are bought more frequently and are more likley purchased in greater quantities when discounted. Getting slightly better categories indicating perishables vs. non-perishable would also give better insight into which items to discount in order to encourage purchases."
   ]
  },
  {
   "cell_type": "code",
   "execution_count": null,
   "metadata": {},
   "outputs": [],
   "source": []
  }
 ],
 "metadata": {
  "kernelspec": {
   "display_name": "Python 3",
   "language": "python",
   "name": "python3"
  },
  "language_info": {
   "codemirror_mode": {
    "name": "ipython",
    "version": 3
   },
   "file_extension": ".py",
   "mimetype": "text/x-python",
   "name": "python",
   "nbconvert_exporter": "python",
   "pygments_lexer": "ipython3",
   "version": "3.6.9"
  }
 },
 "nbformat": 4,
 "nbformat_minor": 2
}
