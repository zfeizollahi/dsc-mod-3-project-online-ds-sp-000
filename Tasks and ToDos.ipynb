{
 "cells": [
  {
   "cell_type": "markdown",
   "metadata": {},
   "source": [
    "Question: \n",
    "    - **_Does discount amount have a statistically significant effect on the quantity of a product in an order? \n",
    "    - If so, at what level(s) of discount?_**\n",
    "Task: \n",
    "    - **_at least 3 other hypotheses to test on your own_**.\n",
    "    - **_null hypothesis_** / **_alternative hypothesis_** \n",
    "    - **one-tail or a two-tail test.**\n",
    "Deliverables: \n",
    "    - Notebook\n",
    "    - blog post\n",
    "    - executive summary ppt "
   ]
  },
  {
   "cell_type": "code",
   "execution_count": null,
   "metadata": {},
   "outputs": [],
   "source": []
  }
 ],
 "metadata": {
  "kernelspec": {
   "display_name": "Python 3",
   "language": "python",
   "name": "python3"
  },
  "language_info": {
   "codemirror_mode": {
    "name": "ipython",
    "version": 3
   },
   "file_extension": ".py",
   "mimetype": "text/x-python",
   "name": "python",
   "nbconvert_exporter": "python",
   "pygments_lexer": "ipython3",
   "version": "3.6.6"
  }
 },
 "nbformat": 4,
 "nbformat_minor": 2
}
